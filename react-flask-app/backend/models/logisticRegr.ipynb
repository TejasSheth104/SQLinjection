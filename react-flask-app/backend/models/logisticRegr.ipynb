{
 "cells": [
  {
   "cell_type": "code",
   "execution_count": 1,
   "metadata": {},
   "outputs": [],
   "source": [
    "import numpy as np\n",
    "import pandas as pd\n",
    "import matplotlib.pyplot as plt\n",
    "from sklearn.model_selection import train_test_split\n",
    "from sklearn.metrics import confusion_matrix, classification_report, f1_score, precision_score, recall_score, accuracy_score\n",
    "import seaborn as sns\n",
    "# warnings.filterwarnings('ignore')\n"
   ]
  },
  {
   "cell_type": "code",
   "execution_count": 3,
   "metadata": {},
   "outputs": [],
   "source": [
    "f1_dict = {}\n",
    "precision_dict = {}\n",
    "recall_dict = {}\n",
    "accuracy_dict = {}\n",
    "train_accuracy = {}\n",
    "validation_accuracy = {}\n",
    "test_accuracy = {}\n",
    "time_dict ={}\n",
    "tp_dict = {}\n",
    "fp_dict = {}"
   ]
  },
  {
   "cell_type": "code",
   "execution_count": 4,
   "metadata": {},
   "outputs": [
    {
     "name": "stdout",
     "output_type": "stream",
     "text": [
      "Data Shape: (4200, 2)\n"
     ]
    }
   ],
   "source": [
    "df = pd.read_csv(\"data/sqli.csv\", encoding='utf-16')\n",
    "print(\"Data Shape:\", df.shape)\n"
   ]
  },
  {
   "cell_type": "code",
   "execution_count": 5,
   "metadata": {},
   "outputs": [
    {
     "name": "stdout",
     "output_type": "stream",
     "text": [
      "(4200,) (4200,)\n"
     ]
    }
   ],
   "source": [
    "X = df['Sentence']\n",
    "y = df['Label']\n",
    "print(X.shape, y.shape)"
   ]
  },
  {
   "cell_type": "code",
   "execution_count": 6,
   "metadata": {},
   "outputs": [
    {
     "name": "stderr",
     "output_type": "stream",
     "text": [
      "[nltk_data] Downloading package stopwords to\n",
      "[nltk_data]     C:\\Users\\janha\\AppData\\Roaming\\nltk_data...\n",
      "[nltk_data]   Package stopwords is already up-to-date!\n"
     ]
    }
   ],
   "source": [
    "import nltk\n",
    "from sklearn.feature_extraction.text import CountVectorizer\n",
    "from nltk.corpus import stopwords\n",
    "nltk.download('stopwords')\n",
    "vectorizer = CountVectorizer(min_df = 2, max_df = 0.8, stop_words = stopwords.words('english'))\n",
    "X = vectorizer.fit_transform(X.values.astype('U')).toarray()\n"
   ]
  },
  {
   "cell_type": "code",
   "execution_count": 7,
   "metadata": {},
   "outputs": [
    {
     "name": "stdout",
     "output_type": "stream",
     "text": [
      "(3360, 4717)\n",
      "(3360,)\n",
      "(840, 4717)\n",
      "(840,)\n"
     ]
    }
   ],
   "source": [
    "X_train, X_test, y_train, y_test = train_test_split(X, y, test_size = 0.2)\n",
    "print(X_train.shape)\n",
    "print(y_train.shape)\n",
    "print(X_test.shape)\n",
    "print(y_test.shape)"
   ]
  },
  {
   "attachments": {},
   "cell_type": "markdown",
   "metadata": {},
   "source": [
    "### 1. LOGISTIC REGRESSION"
   ]
  },
  {
   "cell_type": "code",
   "execution_count": 52,
   "metadata": {},
   "outputs": [],
   "source": [
    "from sklearn.linear_model import LogisticRegression"
   ]
  },
  {
   "cell_type": "code",
   "execution_count": 8,
   "metadata": {},
   "outputs": [],
   "source": [
    "lr_clf = LogisticRegression()\n",
    "y_pred_lr = lr_clf.fit(X_train, y_train)\n",
    "y_pred = y_pred_lr.predict(X_test)"
   ]
  },
  {
   "cell_type": "code",
   "execution_count": 9,
   "metadata": {},
   "outputs": [],
   "source": [
    "# conf_matrix_model = confusion_matrix(y_test, y_pred)\n",
    "tn, fp, fn, tp = confusion_matrix(y_test, y_pred).ravel()\n",
    "tp_dict[\"LogisticRegression\"] = tp\n",
    "fp_dict[\"LogisticRegression\"] = fp\n",
    "# conf_matrix_model[]"
   ]
  },
  {
   "cell_type": "code",
   "execution_count": 10,
   "metadata": {},
   "outputs": [],
   "source": [
    "time_dict[\"LogisticRegression\"] = 1.1"
   ]
  },
  {
   "cell_type": "code",
   "execution_count": 11,
   "metadata": {},
   "outputs": [],
   "source": [
    "f1_dict[\"LogisticRegression\"] = f1_score(y_pred, y_test)\n",
    "precision_dict[\"LogisticRegression\"] = precision_score(y_pred, y_test)\n",
    "recall_dict[\"LogisticRegression\"] = recall_score(y_pred, y_test)\n",
    "accuracy_dict['LogisticRegression'] = accuracy_score(y_pred, y_test)"
   ]
  },
  {
   "cell_type": "code",
   "execution_count": 12,
   "metadata": {},
   "outputs": [
    {
     "name": "stdout",
     "output_type": "stream",
     "text": [
      "Accuracy of Logistic Regression on test set : 0.9369047619047619\n",
      "F1 Score of Logistic Regression on test set : 0.8555858310626703\n",
      "precision_score of Logistic Regression on test set : 0.7548076923076923\n",
      "recall_score of Logistic Regression on test set : 0.9874213836477987\n"
     ]
    }
   ],
   "source": [
    "print(f\"Accuracy of Logistic Regression on test set : {accuracy_score(y_pred, y_test)}\")\n",
    "print(f\"F1 Score of Logistic Regression on test set : {f1_score(y_pred, y_test)}\")\n",
    "print(f\"precision_score of Logistic Regression on test set : {precision_score(y_pred, y_test)}\")\n",
    "print(f\"recall_score of Logistic Regression on test set : {recall_score(y_pred, y_test)}\")"
   ]
  },
  {
   "attachments": {},
   "cell_type": "markdown",
   "metadata": {},
   "source": [
    "### 2.NAIVE BAYES"
   ]
  },
  {
   "cell_type": "code",
   "execution_count": 13,
   "metadata": {},
   "outputs": [],
   "source": [
    "from sklearn.naive_bayes import GaussianNB"
   ]
  },
  {
   "cell_type": "code",
   "execution_count": 14,
   "metadata": {},
   "outputs": [],
   "source": [
    "nb_clf = GaussianNB()\n",
    "nb_clf.fit(X_train, y_train)\n",
    "y_pred = nb_clf.predict(X_test)"
   ]
  },
  {
   "cell_type": "code",
   "execution_count": 15,
   "metadata": {},
   "outputs": [],
   "source": [
    "tn, fp, fn, tp = confusion_matrix(y_test, y_pred).ravel()\n",
    "tp_dict[\"NaiveBayes\"] = tp\n",
    "fp_dict[\"NaiveBayes\"] = fp"
   ]
  },
  {
   "cell_type": "code",
   "execution_count": 16,
   "metadata": {},
   "outputs": [],
   "source": [
    "time_dict[\"NaiveBayes\"] = 0.6"
   ]
  },
  {
   "cell_type": "code",
   "execution_count": 17,
   "metadata": {},
   "outputs": [],
   "source": [
    "f1_dict[\"NaiveBayes\"] = f1_score(y_pred, y_test)\n",
    "precision_dict[\"NaiveBayes\"] = precision_score(y_pred, y_test)\n",
    "recall_dict[\"NaiveBayes\"] = recall_score(y_pred, y_test)\n",
    "accuracy_dict['NaiveBayes'] = accuracy_score(y_pred, y_test)"
   ]
  },
  {
   "cell_type": "code",
   "execution_count": 18,
   "metadata": {},
   "outputs": [
    {
     "name": "stdout",
     "output_type": "stream",
     "text": [
      "Accuracy of Naive Bayes on test set : 0.9809523809523809\n",
      "F1 Score of Naive Bayes on test set : 0.962962962962963\n",
      "precision_score of Naive bayes on test set : 1.0\n",
      "recall_score of Naive Bayes on test set : 0.9285714285714286\n"
     ]
    }
   ],
   "source": [
    "print(f\"Accuracy of Naive Bayes on test set : {accuracy_score(y_pred, y_test)}\")\n",
    "print(f\"F1 Score of Naive Bayes on test set : {f1_score(y_pred, y_test)}\")\n",
    "print(f\"precision_score of Naive bayes on test set : {precision_score(y_pred, y_test)}\")\n",
    "print(f\"recall_score of Naive Bayes on test set : {recall_score(y_pred, y_test)}\")"
   ]
  },
  {
   "attachments": {},
   "cell_type": "markdown",
   "metadata": {},
   "source": [
    "### 3. SVM"
   ]
  },
  {
   "cell_type": "code",
   "execution_count": 8,
   "metadata": {},
   "outputs": [],
   "source": [
    "from sklearn.svm import SVC"
   ]
  },
  {
   "cell_type": "code",
   "execution_count": 9,
   "metadata": {},
   "outputs": [],
   "source": [
    "svm_clf = SVC(gamma = 'auto')\n",
    "svm_clf.fit(X_train, y_train)\n",
    "y_pred = svm_clf.predict(X_test)"
   ]
  },
  {
   "cell_type": "code",
   "execution_count": 10,
   "metadata": {},
   "outputs": [],
   "source": [
    "tn, fp, fn, tp = confusion_matrix(y_test, y_pred).ravel()\n",
    "tp_dict[\"SVM\"] = tp\n",
    "fp_dict[\"SVM\"] = fp"
   ]
  },
  {
   "cell_type": "code",
   "execution_count": 11,
   "metadata": {},
   "outputs": [],
   "source": [
    "f1_dict[\"SVM\"] = f1_score(y_pred, y_test)\n",
    "precision_dict[\"SVM\"] = precision_score(y_pred, y_test)\n",
    "recall_dict[\"SVM\"] = recall_score(y_pred, y_test)\n",
    "accuracy_dict['SVM'] = accuracy_score(y_pred, y_test)\n",
    "time_dict['SVM'] = 36.1"
   ]
  },
  {
   "cell_type": "code",
   "execution_count": 12,
   "metadata": {},
   "outputs": [
    {
     "name": "stdout",
     "output_type": "stream",
     "text": [
      "Accuracy of SVM on test set : 0.780952380952381\n",
      "F1 Score of SVM on test set : 0.31343283582089554\n",
      "precision_score of SVM on test set : 0.18584070796460178\n",
      "recall_score of SVM on test set : 1.0\n"
     ]
    }
   ],
   "source": [
    "print(f\"Accuracy of SVM on test set : {accuracy_score(y_pred, y_test)}\")\n",
    "print(f\"F1 Score of SVM on test set : {f1_score(y_pred, y_test)}\")\n",
    "print(f\"precision_score of SVM on test set : {precision_score(y_pred, y_test)}\")\n",
    "print(f\"recall_score of SVM on test set : {recall_score(y_pred, y_test)}\")"
   ]
  },
  {
   "attachments": {},
   "cell_type": "markdown",
   "metadata": {},
   "source": [
    "### 4.Decision Tree Classifier"
   ]
  },
  {
   "cell_type": "code",
   "execution_count": 13,
   "metadata": {},
   "outputs": [],
   "source": [
    "from sklearn import tree"
   ]
  },
  {
   "cell_type": "code",
   "execution_count": 14,
   "metadata": {},
   "outputs": [],
   "source": [
    "DT = tree.DecisionTreeClassifier()\n",
    "DT.fit(X_train, y_train)\n",
    "y_pred = DT.predict(X_test)"
   ]
  },
  {
   "cell_type": "code",
   "execution_count": 15,
   "metadata": {},
   "outputs": [],
   "source": [
    "tn, fp, fn, tp = confusion_matrix(y_test, y_pred).ravel()\n",
    "tp_dict[\"DecisionTree\"] = tp\n",
    "fp_dict[\"DecisionTree\"] = fp"
   ]
  },
  {
   "cell_type": "code",
   "execution_count": 16,
   "metadata": {},
   "outputs": [],
   "source": [
    "f1_dict[\"DecisionTree\"] = f1_score(y_pred, y_test)\n",
    "precision_dict[\"DecisionTree\"] = precision_score(y_pred, y_test)\n",
    "recall_dict[\"DecisionTree\"] = recall_score(y_pred, y_test)\n",
    "accuracy_dict['DecisionTree'] = accuracy_score(y_pred, y_test)\n",
    "time_dict[\"DecisionTree\"] = 12.7"
   ]
  },
  {
   "cell_type": "code",
   "execution_count": 17,
   "metadata": {},
   "outputs": [
    {
     "name": "stdout",
     "output_type": "stream",
     "text": [
      "Accuracy of DTC on test set : 0.8559523809523809\n",
      "F1 Score of DTC on test set : 0.7888307155322862\n",
      "precision_score of DTC on test set : 1.0\n",
      "recall_score of DTC on test set : 0.6512968299711815\n"
     ]
    }
   ],
   "source": [
    "print(f\"Accuracy of DTC on test set : {accuracy_score(y_pred, y_test)}\")\n",
    "print(f\"F1 Score of DTC on test set : {f1_score(y_pred, y_test)}\")\n",
    "print(f\"precision_score of DTC on test set : {precision_score(y_pred, y_test)}\")\n",
    "print(f\"recall_score of DTC on test set : {recall_score(y_pred, y_test)}\")"
   ]
  },
  {
   "attachments": {},
   "cell_type": "markdown",
   "metadata": {},
   "source": [
    "### 5.Random Forest"
   ]
  },
  {
   "cell_type": "code",
   "execution_count": 18,
   "metadata": {},
   "outputs": [],
   "source": [
    "from sklearn.ensemble import RandomForestClassifier\n"
   ]
  },
  {
   "cell_type": "code",
   "execution_count": 19,
   "metadata": {},
   "outputs": [],
   "source": [
    "rf_clf = RandomForestClassifier()\n",
    "rf_clf.fit(X_train, y_train)\n",
    "y_pred = rf_clf.predict(X_test)"
   ]
  },
  {
   "cell_type": "code",
   "execution_count": 20,
   "metadata": {},
   "outputs": [],
   "source": [
    "tn, fp, fn, tp = confusion_matrix(y_test, y_pred).ravel()\n",
    "tp_dict[\"RandomForest\"] = tp\n",
    "fp_dict[\"RandomForest\"] = fp"
   ]
  },
  {
   "cell_type": "code",
   "execution_count": 21,
   "metadata": {},
   "outputs": [],
   "source": [
    "f1_dict[\"RandomForest\"] = f1_score(y_pred, y_test)\n",
    "precision_dict[\"RandomForest\"] = precision_score(y_pred, y_test)\n",
    "recall_dict[\"RandomForest\"] = recall_score(y_pred, y_test)\n",
    "accuracy_dict['RandomForest'] = accuracy_score(y_pred, y_test)\n",
    "time_dict[\"RandomForest\"] = 15.7"
   ]
  },
  {
   "cell_type": "code",
   "execution_count": 22,
   "metadata": {},
   "outputs": [
    {
     "name": "stdout",
     "output_type": "stream",
     "text": [
      "Accuracy of RF on test set : 0.9035714285714286\n",
      "F1 Score of RF on test set : 0.8480300187617261\n",
      "precision_score of RF on test set : 1.0\n",
      "recall_score of RF on test set : 0.7361563517915309\n"
     ]
    }
   ],
   "source": [
    "print(f\"Accuracy of RF on test set : {accuracy_score(y_pred, y_test)}\")\n",
    "print(f\"F1 Score of RF on test set : {f1_score(y_pred, y_test)}\")\n",
    "print(f\"precision_score of RF on test set : {precision_score(y_pred, y_test)}\")\n",
    "print(f\"recall_score of RF on test set : {recall_score(y_pred, y_test)}\")"
   ]
  },
  {
   "attachments": {},
   "cell_type": "markdown",
   "metadata": {},
   "source": [
    "### 6.Convolution Neural Network"
   ]
  },
  {
   "cell_type": "code",
   "execution_count": 23,
   "metadata": {},
   "outputs": [],
   "source": [
    "import tensorflow as tf\n",
    "from tensorflow.keras.utils import plot_model\n",
    "from tensorflow.keras import models, layers\n",
    "# import warnings\n",
    "\n",
    "from sklearn.metrics import confusion_matrix, classification_report, f1_score, precision_score, recall_score, accuracy_score\n",
    "from sklearn.metrics import precision_recall_curve,precision_recall_fscore_support\n"
   ]
  },
  {
   "cell_type": "code",
   "execution_count": 24,
   "metadata": {},
   "outputs": [],
   "source": [
    "# Function to plot the history graphs of the training and validation curves during training\n",
    "def plot_history(history):\n",
    "    history_dict = history.history\n",
    "    train_loss = history_dict['loss']    # Training loss over epochs\n",
    "    val_loss = history_dict['val_loss']    # Validation loss over epochs\n",
    "    epochs = range(1, len(history_dict['loss'])+1)\n",
    "    plt.plot(epochs, train_loss,'b', label='Training error')\n",
    "    plt.plot(epochs, val_loss,'b', color=\"orange\", label='Validation error')\n",
    "    plt.title('Training and Validation Loss')\n",
    "    plt.xlabel('Epochs')\n",
    "    plt.ylabel('Loss')\n",
    "    plt.legend()\n",
    "    plt.show()\n",
    "\n",
    "def plot_historyAcc(history):\n",
    "    history_dict = history.history\n",
    "    train_acc = history_dict['accuracy']    # Training loss over epochs\n",
    "    val_acc = history_dict['val_accuracy']    # Validation loss over epochs\n",
    "    epochs = range(1, len(history_dict['accuracy'])+1)\n",
    "    plt.plot(epochs, train_acc,'b', label='Training accuracy')\n",
    "    plt.plot(epochs, val_acc,'b', color=\"orange\", label='Validation accuracy')\n",
    "    plt.title('Training and Validation Accuracy')\n",
    "    plt.xlabel('Epochs')\n",
    "    plt.ylabel('Accuracy')\n",
    "    plt.legend()\n",
    "    plt.show()\n",
    "\n",
    "# Function to plot the confusion matrix\n",
    "def plot_confusion_matrix(conf_matrix):    \n",
    "    fig, ax = plt.subplots(figsize=(7.5, 7.5))\n",
    "    ax.matshow(conf_matrix, cmap=plt.cm.Blues, alpha=0.3)\n",
    "    for i in range(conf_matrix.shape[0]):\n",
    "        for j in range(conf_matrix.shape[1]):\n",
    "            ax.text(x=j, y=i, s=conf_matrix[i, j], va='center', ha='center', size='xx-large')\n",
    "    \n",
    "    plt.xlabel('Predicted Value', fontsize=18)\n",
    "    plt.ylabel('Actual Value', fontsize=18)\n",
    "    plt.title('Confusion Matrix', fontsize=18)\n",
    "    plt.show()"
   ]
  },
  {
   "cell_type": "code",
   "execution_count": 25,
   "metadata": {},
   "outputs": [
    {
     "name": "stdout",
     "output_type": "stream",
     "text": [
      "Model: \"sequential\"\n",
      "_________________________________________________________________\n",
      " Layer (type)                Output Shape              Param #   \n",
      "=================================================================\n",
      " conv1d (Conv1D)             (None, 1, 32)             150976    \n",
      "                                                                 \n",
      " conv1d_1 (Conv1D)           (None, 1, 32)             1056      \n",
      "                                                                 \n",
      " flatten (Flatten)           (None, 32)                0         \n",
      "                                                                 \n",
      " dense (Dense)               (None, 1)                 33        \n",
      "                                                                 \n",
      "=================================================================\n",
      "Total params: 152,065\n",
      "Trainable params: 152,065\n",
      "Non-trainable params: 0\n",
      "_________________________________________________________________\n",
      "Epoch 1/10\n",
      "105/105 [==============================] - 1s 5ms/step - loss: 0.4137 - accuracy: 0.8351 - val_loss: 0.1872 - val_accuracy: 0.9071\n",
      "Epoch 2/10\n",
      "105/105 [==============================] - 0s 3ms/step - loss: 0.1089 - accuracy: 0.9616 - val_loss: 0.0919 - val_accuracy: 0.9726\n",
      "Epoch 3/10\n",
      "105/105 [==============================] - 0s 4ms/step - loss: 0.0631 - accuracy: 0.9807 - val_loss: 0.0736 - val_accuracy: 0.9726\n",
      "Epoch 4/10\n",
      "105/105 [==============================] - 0s 4ms/step - loss: 0.0512 - accuracy: 0.9815 - val_loss: 0.0658 - val_accuracy: 0.9750\n",
      "Epoch 5/10\n",
      "105/105 [==============================] - 0s 4ms/step - loss: 0.0474 - accuracy: 0.9815 - val_loss: 0.0640 - val_accuracy: 0.9750\n",
      "Epoch 6/10\n",
      "105/105 [==============================] - 0s 4ms/step - loss: 0.0452 - accuracy: 0.9821 - val_loss: 0.0620 - val_accuracy: 0.9750\n",
      "Epoch 7/10\n",
      "105/105 [==============================] - 0s 4ms/step - loss: 0.0446 - accuracy: 0.9824 - val_loss: 0.0617 - val_accuracy: 0.9738\n",
      "Epoch 8/10\n",
      "105/105 [==============================] - 0s 3ms/step - loss: 0.0447 - accuracy: 0.9824 - val_loss: 0.0603 - val_accuracy: 0.9750\n",
      "Epoch 9/10\n",
      "105/105 [==============================] - 0s 4ms/step - loss: 0.0440 - accuracy: 0.9824 - val_loss: 0.0590 - val_accuracy: 0.9762\n",
      "Epoch 10/10\n",
      "105/105 [==============================] - 0s 4ms/step - loss: 0.0437 - accuracy: 0.9824 - val_loss: 0.0580 - val_accuracy: 0.9762\n",
      "27/27 [==============================] - 0s 2ms/step\n"
     ]
    }
   ],
   "source": [
    "model = models.Sequential()\n",
    "model.add(layers.Conv1D(32, 1, activation = 'relu', input_shape = (1,4717)))\n",
    "model.add(layers.Conv1D(32, 1, activation = 'relu'))\n",
    "model.add(layers.Flatten())\n",
    "model.add(layers.Dense(1, activation = 'sigmoid'))\n",
    "model.summary()\n",
    "model.compile(optimizer = 'adam', loss = tf.keras.losses.BinaryCrossentropy(), metrics = ['accuracy'])\n",
    "\n",
    "X_train1 = X_train.reshape(-1, 1, 4717)\n",
    "X_test1 = X_test.reshape(-1, 1, 4717)\n",
    "\n",
    "history = model.fit(X_train1, y_train, epochs = 10, validation_data = (X_test1, y_test))\n",
    "y_pred = model.predict(X_test1).flatten()"
   ]
  },
  {
   "cell_type": "code",
   "execution_count": 26,
   "metadata": {},
   "outputs": [
    {
     "name": "stdout",
     "output_type": "stream",
     "text": [
      "Accuracy of CNN on test set : 0.9761904761904762\n",
      "F1 Score of CNN on test set : 0.9576271186440678\n",
      "recall of CNN on test set : 0.9186991869918699\n",
      "precision of CNN on test set : 1.0\n"
     ]
    }
   ],
   "source": [
    "\n",
    "# y_pred1 = [1 if x>-0.5 else 0 for x in y_pred]\n",
    "y_pred = np.round(y_pred)\n",
    "\n",
    "# Updates model score to f1_dict\n",
    "tn, fp, fn, tp = confusion_matrix(y_test, y_pred).ravel()\n",
    "tp_dict[\"CNN\"] = tp\n",
    "fp_dict[\"CNN\"] = fp\n",
    "f1_dict[\"CNN\"] = f1_score(y_pred, y_test)\n",
    "precision_dict[\"CNN\"] = precision_score(y_pred, y_test)\n",
    "recall_dict[\"CNN\"] = recall_score(y_pred, y_test)\n",
    "accuracy_dict['CNN'] = accuracy_score(y_pred, y_test)\n",
    "time_dict[\"CNN\"] = 6.4"
   ]
  },
  {
   "attachments": {},
   "cell_type": "markdown",
   "metadata": {},
   "source": [
    "### 7.KNN"
   ]
  },
  {
   "cell_type": "code",
   "execution_count": 27,
   "metadata": {},
   "outputs": [],
   "source": [
    "df = pd.read_csv(\"data/sqli.csv\", encoding='utf-16')\n"
   ]
  },
  {
   "cell_type": "code",
   "execution_count": 28,
   "metadata": {},
   "outputs": [
    {
     "data": {
      "text/plain": [
       "(4200, 4096)"
      ]
     },
     "execution_count": 28,
     "metadata": {},
     "output_type": "execute_result"
    }
   ],
   "source": [
    "# Vectorize the dataset\n",
    "vectorizer = CountVectorizer(min_df = 2, max_df = 0.7, max_features = 4096, stop_words = nltk.corpus.stopwords.words('english'))\n",
    "\n",
    "# initialize variables X and y\n",
    "y = df['Label']\n",
    "X = vectorizer.fit_transform(df['Sentence'].values.astype('U')).toarray()\n",
    "\n",
    "X.shape\n"
   ]
  },
  {
   "cell_type": "code",
   "execution_count": 29,
   "metadata": {},
   "outputs": [],
   "source": [
    "from sklearn.neighbors import KNeighborsClassifier\n",
    "\n",
    "# reshape the X variable into a matrix\n",
    "X.shape = (4200, 64, 64, 1)\n",
    "\n",
    "X_train, X_test, y_train, y_test = train_test_split(X, y, test_size = 0.2, random_state = 42)\n",
    "\n",
    "# reshape train and test data\n",
    "tested = X_test.copy()\n",
    "tested.shape = (tested.shape[0], tested.shape[1] * tested.shape[2])\n",
    "trained = X_train.copy()\n",
    "trained.shape = (X_train.shape[0], X_train.shape[1] * X_train.shape[2])"
   ]
  },
  {
   "cell_type": "code",
   "execution_count": 30,
   "metadata": {},
   "outputs": [],
   "source": [
    "knn = KNeighborsClassifier(n_neighbors = 3)\n",
    "knn = knn.fit(trained, y_train)\n",
    "knn_prediction = knn.predict(tested)"
   ]
  },
  {
   "cell_type": "code",
   "execution_count": 31,
   "metadata": {},
   "outputs": [
    {
     "name": "stdout",
     "output_type": "stream",
     "text": [
      "Accuracy of KNN on test set : 0.5738095238095238\n",
      "F1 Score of KNN on test set : 0.28112449799196787\n",
      "precision_score of KNN on test set : 0.2777777777777778\n",
      "recall_score of KNN on test set : 0.2845528455284553\n"
     ]
    }
   ],
   "source": [
    "tn, fp, fn, tp = confusion_matrix(y_test, y_pred).ravel()\n",
    "tp_dict[\"KNN\"] = tp\n",
    "fp_dict[\"KNN\"] = fp\n",
    "f1_dict[\"KNN\"] = f1_score(y_pred, y_test)\n",
    "precision_dict[\"KNN\"] = precision_score(y_pred, y_test)\n",
    "recall_dict[\"KNN\"] = recall_score(y_pred, y_test)\n",
    "accuracy_dict['KNN'] = accuracy_score(y_pred, y_test)\n",
    "time_dict[\"KNN\"] = 0.6\n",
    "print(f\"Accuracy of KNN on test set : {accuracy_score(y_pred, y_test)}\")\n",
    "print(f\"F1 Score of KNN on test set : {f1_score(y_pred, y_test)}\")\n",
    "print(f\"precision_score of KNN on test set : {precision_score(y_pred, y_test)}\")\n",
    "print(f\"recall_score of KNN on test set : {recall_score(y_pred, y_test)}\")"
   ]
  },
  {
   "cell_type": "markdown",
   "metadata": {},
   "source": [
    "### PERFORMANCE"
   ]
  },
  {
   "cell_type": "code",
   "execution_count": 33,
   "metadata": {},
   "outputs": [],
   "source": [
    "keys2 = f1_dict, precision_dict, recall_dict, accuracy_dict\n",
    "metrics = ['F1_Score', 'Precision', 'Recall', 'Accuracy']\n",
    "data = pd.DataFrame(keys2)\n",
    "data.index = metrics\n",
    "# data[\"LogisticRegression\"]"
   ]
  },
  {
   "cell_type": "code",
   "execution_count": 34,
   "metadata": {},
   "outputs": [
    {
     "data": {
      "image/png": "[encoded data removed]",
      "text/plain": [
       "<Figure size 504x360 with 1 Axes>"
      ]
     },
     "metadata": {
      "needs_background": "light"
     },
     "output_type": "display_data"
    }
   ],
   "source": [
    "result = data.plot(kind='bar', rot=0, figsize=(7,5),width=0.8);\n",
    "result.legend(bbox_to_anchor=(1, 1.02), loc='upper left');"
   ]
  },
  {
   "cell_type": "code",
   "execution_count": 37,
   "metadata": {},
   "outputs": [
    {
     "ename": "ValueError",
     "evalue": "shape mismatch: objects cannot be broadcast to a single shape.  Mismatch is between arg 0 with shape (7,) and arg 1 with shape (5,).",
     "output_type": "error",
     "traceback": [
      "\u001b[1;31m---------------------------------------------------------------------------\u001b[0m",
      "\u001b[1;31mValueError\u001b[0m                                Traceback (most recent call last)",
      "\u001b[1;32md:\\SQLi\\logisticRegr.ipynb Cell 53\u001b[0m in \u001b[0;36m<cell line: 9>\u001b[1;34m()\u001b[0m\n\u001b[0;32m      <a href='vscode-notebook-cell:/d%3A/SQLi/logisticRegr.ipynb#Y110sZmlsZQ%3D%3D?line=2'>3</a>\u001b[0m \u001b[39m# plt.bar(model, tp_dict.values(),width = 0.45)\u001b[39;00m\n\u001b[0;32m      <a href='vscode-notebook-cell:/d%3A/SQLi/logisticRegr.ipynb#Y110sZmlsZQ%3D%3D?line=3'>4</a>\u001b[0m \u001b[39m# plt.bar(model, fp_dict.values(),width = 0.45)\u001b[39;00m\n\u001b[0;32m      <a href='vscode-notebook-cell:/d%3A/SQLi/logisticRegr.ipynb#Y110sZmlsZQ%3D%3D?line=4'>5</a>\u001b[0m \u001b[39m# for bars in ax.containers:\u001b[39;00m\n\u001b[0;32m      <a href='vscode-notebook-cell:/d%3A/SQLi/logisticRegr.ipynb#Y110sZmlsZQ%3D%3D?line=5'>6</a>\u001b[0m \u001b[39m#     ax.bar_label(bars)\u001b[39;00m\n\u001b[0;32m      <a href='vscode-notebook-cell:/d%3A/SQLi/logisticRegr.ipynb#Y110sZmlsZQ%3D%3D?line=7'>8</a>\u001b[0m X_axis \u001b[39m=\u001b[39m np\u001b[39m.\u001b[39marange(\u001b[39mlen\u001b[39m(model))\n\u001b[1;32m----> <a href='vscode-notebook-cell:/d%3A/SQLi/logisticRegr.ipynb#Y110sZmlsZQ%3D%3D?line=8'>9</a>\u001b[0m plt\u001b[39m.\u001b[39;49mbar(X_axis\u001b[39m-\u001b[39;49m\u001b[39m0.5\u001b[39;49m, tp_dict\u001b[39m.\u001b[39;49mvalues(),\u001b[39m0.05\u001b[39;49m,label\u001b[39m=\u001b[39;49m\u001b[39m\"\u001b[39;49m\u001b[39mLogisticRegression\u001b[39;49m\u001b[39m\"\u001b[39;49m)\n\u001b[0;32m     <a href='vscode-notebook-cell:/d%3A/SQLi/logisticRegr.ipynb#Y110sZmlsZQ%3D%3D?line=9'>10</a>\u001b[0m plt\u001b[39m.\u001b[39mbar(X_axis\u001b[39m-\u001b[39m\u001b[39m0.3\u001b[39m, tp_dict\u001b[39m.\u001b[39mvalues(),\u001b[39m0.05\u001b[39m,label\u001b[39m=\u001b[39m\u001b[39m\"\u001b[39m\u001b[39mNaiveBayes\u001b[39m\u001b[39m\"\u001b[39m)\n\u001b[0;32m     <a href='vscode-notebook-cell:/d%3A/SQLi/logisticRegr.ipynb#Y110sZmlsZQ%3D%3D?line=10'>11</a>\u001b[0m plt\u001b[39m.\u001b[39mbar(X_axis\u001b[39m-\u001b[39m\u001b[39m0.1\u001b[39m, tp_dict\u001b[39m.\u001b[39mvalues(),\u001b[39m0.05\u001b[39m,label\u001b[39m=\u001b[39m\u001b[39m\"\u001b[39m\u001b[39mSVM\u001b[39m\u001b[39m\"\u001b[39m)\n",
      "File \u001b[1;32mc:\\Python310\\lib\\site-packages\\matplotlib\\pyplot.py:2387\u001b[0m, in \u001b[0;36mbar\u001b[1;34m(x, height, width, bottom, align, data, **kwargs)\u001b[0m\n\u001b[0;32m   2383\u001b[0m \u001b[39m@_copy_docstring_and_deprecators\u001b[39m(Axes\u001b[39m.\u001b[39mbar)\n\u001b[0;32m   2384\u001b[0m \u001b[39mdef\u001b[39;00m \u001b[39mbar\u001b[39m(\n\u001b[0;32m   2385\u001b[0m         x, height, width\u001b[39m=\u001b[39m\u001b[39m0.8\u001b[39m, bottom\u001b[39m=\u001b[39m\u001b[39mNone\u001b[39;00m, \u001b[39m*\u001b[39m, align\u001b[39m=\u001b[39m\u001b[39m'\u001b[39m\u001b[39mcenter\u001b[39m\u001b[39m'\u001b[39m,\n\u001b[0;32m   2386\u001b[0m         data\u001b[39m=\u001b[39m\u001b[39mNone\u001b[39;00m, \u001b[39m*\u001b[39m\u001b[39m*\u001b[39mkwargs):\n\u001b[1;32m-> 2387\u001b[0m     \u001b[39mreturn\u001b[39;00m gca()\u001b[39m.\u001b[39mbar(\n\u001b[0;32m   2388\u001b[0m         x, height, width\u001b[39m=\u001b[39mwidth, bottom\u001b[39m=\u001b[39mbottom, align\u001b[39m=\u001b[39malign,\n\u001b[0;32m   2389\u001b[0m         \u001b[39m*\u001b[39m\u001b[39m*\u001b[39m({\u001b[39m\"\u001b[39m\u001b[39mdata\u001b[39m\u001b[39m\"\u001b[39m: data} \u001b[39mif\u001b[39;00m data \u001b[39mis\u001b[39;00m \u001b[39mnot\u001b[39;00m \u001b[39mNone\u001b[39;00m \u001b[39melse\u001b[39;00m {}), \u001b[39m*\u001b[39m\u001b[39m*\u001b[39mkwargs)\n",
      "File \u001b[1;32mc:\\Python310\\lib\\site-packages\\matplotlib\\__init__.py:1412\u001b[0m, in \u001b[0;36m_preprocess_data.<locals>.inner\u001b[1;34m(ax, data, *args, **kwargs)\u001b[0m\n\u001b[0;32m   1409\u001b[0m \u001b[39m@functools\u001b[39m\u001b[39m.\u001b[39mwraps(func)\n\u001b[0;32m   1410\u001b[0m \u001b[39mdef\u001b[39;00m \u001b[39minner\u001b[39m(ax, \u001b[39m*\u001b[39margs, data\u001b[39m=\u001b[39m\u001b[39mNone\u001b[39;00m, \u001b[39m*\u001b[39m\u001b[39m*\u001b[39mkwargs):\n\u001b[0;32m   1411\u001b[0m     \u001b[39mif\u001b[39;00m data \u001b[39mis\u001b[39;00m \u001b[39mNone\u001b[39;00m:\n\u001b[1;32m-> 1412\u001b[0m         \u001b[39mreturn\u001b[39;00m func(ax, \u001b[39m*\u001b[39m\u001b[39mmap\u001b[39m(sanitize_sequence, args), \u001b[39m*\u001b[39m\u001b[39m*\u001b[39mkwargs)\n\u001b[0;32m   1414\u001b[0m     bound \u001b[39m=\u001b[39m new_sig\u001b[39m.\u001b[39mbind(ax, \u001b[39m*\u001b[39margs, \u001b[39m*\u001b[39m\u001b[39m*\u001b[39mkwargs)\n\u001b[0;32m   1415\u001b[0m     auto_label \u001b[39m=\u001b[39m (bound\u001b[39m.\u001b[39marguments\u001b[39m.\u001b[39mget(label_namer)\n\u001b[0;32m   1416\u001b[0m                   \u001b[39mor\u001b[39;00m bound\u001b[39m.\u001b[39mkwargs\u001b[39m.\u001b[39mget(label_namer))\n",
      "File \u001b[1;32mc:\\Python310\\lib\\site-packages\\matplotlib\\axes\\_axes.py:2342\u001b[0m, in \u001b[0;36mAxes.bar\u001b[1;34m(self, x, height, width, bottom, align, **kwargs)\u001b[0m\n\u001b[0;32m   2339\u001b[0m     \u001b[39mif\u001b[39;00m yerr \u001b[39mis\u001b[39;00m \u001b[39mnot\u001b[39;00m \u001b[39mNone\u001b[39;00m:\n\u001b[0;32m   2340\u001b[0m         yerr \u001b[39m=\u001b[39m \u001b[39mself\u001b[39m\u001b[39m.\u001b[39m_convert_dx(yerr, y0, y, \u001b[39mself\u001b[39m\u001b[39m.\u001b[39mconvert_yunits)\n\u001b[1;32m-> 2342\u001b[0m x, height, width, y, linewidth, hatch \u001b[39m=\u001b[39m np\u001b[39m.\u001b[39;49mbroadcast_arrays(\n\u001b[0;32m   2343\u001b[0m     \u001b[39m# Make args iterable too.\u001b[39;49;00m\n\u001b[0;32m   2344\u001b[0m     np\u001b[39m.\u001b[39;49matleast_1d(x), height, width, y, linewidth, hatch)\n\u001b[0;32m   2346\u001b[0m \u001b[39m# Now that units have been converted, set the tick locations.\u001b[39;00m\n\u001b[0;32m   2347\u001b[0m \u001b[39mif\u001b[39;00m orientation \u001b[39m==\u001b[39m \u001b[39m'\u001b[39m\u001b[39mvertical\u001b[39m\u001b[39m'\u001b[39m:\n",
      "File \u001b[1;32m<__array_function__ internals>:180\u001b[0m, in \u001b[0;36mbroadcast_arrays\u001b[1;34m(*args, **kwargs)\u001b[0m\n",
      "File \u001b[1;32mc:\\Python310\\lib\\site-packages\\numpy\\lib\\stride_tricks.py:539\u001b[0m, in \u001b[0;36mbroadcast_arrays\u001b[1;34m(subok, *args)\u001b[0m\n\u001b[0;32m    532\u001b[0m \u001b[39m# nditer is not used here to avoid the limit of 32 arrays.\u001b[39;00m\n\u001b[0;32m    533\u001b[0m \u001b[39m# Otherwise, something like the following one-liner would suffice:\u001b[39;00m\n\u001b[0;32m    534\u001b[0m \u001b[39m# return np.nditer(args, flags=['multi_index', 'zerosize_ok'],\u001b[39;00m\n\u001b[0;32m    535\u001b[0m \u001b[39m#                  order='C').itviews\u001b[39;00m\n\u001b[0;32m    537\u001b[0m args \u001b[39m=\u001b[39m [np\u001b[39m.\u001b[39marray(_m, copy\u001b[39m=\u001b[39m\u001b[39mFalse\u001b[39;00m, subok\u001b[39m=\u001b[39msubok) \u001b[39mfor\u001b[39;00m _m \u001b[39min\u001b[39;00m args]\n\u001b[1;32m--> 539\u001b[0m shape \u001b[39m=\u001b[39m _broadcast_shape(\u001b[39m*\u001b[39;49margs)\n\u001b[0;32m    541\u001b[0m \u001b[39mif\u001b[39;00m \u001b[39mall\u001b[39m(array\u001b[39m.\u001b[39mshape \u001b[39m==\u001b[39m shape \u001b[39mfor\u001b[39;00m array \u001b[39min\u001b[39;00m args):\n\u001b[0;32m    542\u001b[0m     \u001b[39m# Common case where nothing needs to be broadcasted.\u001b[39;00m\n\u001b[0;32m    543\u001b[0m     \u001b[39mreturn\u001b[39;00m args\n",
      "File \u001b[1;32mc:\\Python310\\lib\\site-packages\\numpy\\lib\\stride_tricks.py:421\u001b[0m, in \u001b[0;36m_broadcast_shape\u001b[1;34m(*args)\u001b[0m\n\u001b[0;32m    416\u001b[0m \u001b[39m\"\"\"Returns the shape of the arrays that would result from broadcasting the\u001b[39;00m\n\u001b[0;32m    417\u001b[0m \u001b[39msupplied arrays against each other.\u001b[39;00m\n\u001b[0;32m    418\u001b[0m \u001b[39m\"\"\"\u001b[39;00m\n\u001b[0;32m    419\u001b[0m \u001b[39m# use the old-iterator because np.nditer does not handle size 0 arrays\u001b[39;00m\n\u001b[0;32m    420\u001b[0m \u001b[39m# consistently\u001b[39;00m\n\u001b[1;32m--> 421\u001b[0m b \u001b[39m=\u001b[39m np\u001b[39m.\u001b[39;49mbroadcast(\u001b[39m*\u001b[39;49margs[:\u001b[39m32\u001b[39;49m])\n\u001b[0;32m    422\u001b[0m \u001b[39m# unfortunately, it cannot handle 32 or more arguments directly\u001b[39;00m\n\u001b[0;32m    423\u001b[0m \u001b[39mfor\u001b[39;00m pos \u001b[39min\u001b[39;00m \u001b[39mrange\u001b[39m(\u001b[39m32\u001b[39m, \u001b[39mlen\u001b[39m(args), \u001b[39m31\u001b[39m):\n\u001b[0;32m    424\u001b[0m     \u001b[39m# ironically, np.broadcast does not properly handle np.broadcast\u001b[39;00m\n\u001b[0;32m    425\u001b[0m     \u001b[39m# objects (it treats them as scalars)\u001b[39;00m\n\u001b[0;32m    426\u001b[0m     \u001b[39m# use broadcasting to avoid allocating the full array\u001b[39;00m\n",
      "\u001b[1;31mValueError\u001b[0m: shape mismatch: objects cannot be broadcast to a single shape.  Mismatch is between arg 0 with shape (7,) and arg 1 with shape (5,)."
     ]
    },
    {
     "data": {
      "image/png": "[encoded data removed]",
      "text/plain": [
       "<Figure size 504x360 with 1 Axes>"
      ]
     },
     "metadata": {
      "needs_background": "light"
     },
     "output_type": "display_data"
    }
   ],
   "source": [
    "model = np.array([\"LR\",\"NB\",\"SVM\",\"DTC\",\"RF\",\"CNN\",\"KNN\"])\n",
    "fig,ax = plt.subplots(figsize= (7,5)) \n",
    "# plt.bar(model, tp_dict.values(),width = 0.45)\n",
    "# plt.bar(model, fp_dict.values(),width = 0.45)\n",
    "# for bars in ax.containers:\n",
    "#     ax.bar_label(bars)\n",
    "\n",
    "X_axis = np.arange(len(model))\n",
    "plt.bar(X_axis-0.5, tp_dict.values(),0.05,label=\"LogisticRegression\")\n",
    "plt.bar(X_axis-0.3, tp_dict.values(),0.05,label=\"NaiveBayes\")\n",
    "plt.bar(X_axis-0.1, tp_dict.values(),0.05,label=\"SVM\")\n",
    "plt.bar(X_axis, tp_dict.values(),0.05,label=\"DecisionTree\")\n",
    "plt.bar(X_axis+0.1, tp_dict.values(),0.05,label=\"RandomForest\")\n",
    "plt.bar(X_axis+0.3, tp_dict.values(),0.05,label=\"CNN\")\n",
    "plt.bar(X_axis+0.5, tp_dict.values(),0.05,label=\"KNN\")\n",
    "for bars in ax.containers:\n",
    "    ax.bar_label(bars)\n",
    "plt.xticks(X_axis, model)\n",
    "# plt.legend()\n",
    "\n",
    "\n"
   ]
  },
  {
   "cell_type": "code",
   "execution_count": 38,
   "metadata": {},
   "outputs": [
    {
     "data": {
      "text/plain": [
       "dict_values([36.1, 12.7, 15.7, 6.4, 0.6])"
      ]
     },
     "execution_count": 38,
     "metadata": {},
     "output_type": "execute_result"
    }
   ],
   "source": [
    "time_dict.values()"
   ]
  },
  {
   "cell_type": "code",
   "execution_count": 40,
   "metadata": {},
   "outputs": [],
   "source": [
    "# model = np.array([\"LR\",\"NB\",\"SVM\",\"DTC\",\"RF\",\"CNN\",\"KNN\"])\n",
    "# time_taken = time_dict.values()\n",
    "\n",
    "model = np.array([\"SVM\",\"DTC\",\"RF\",\"CNN\",\"KNN\"])\n",
    "time_taken = time_dict.values()"
   ]
  },
  {
   "cell_type": "code",
   "execution_count": 45,
   "metadata": {},
   "outputs": [
    {
     "data": {
      "image/png": "[encoded data removed]",
      "text/plain": [
       "<Figure size 504x360 with 1 Axes>"
      ]
     },
     "metadata": {
      "needs_background": "light"
     },
     "output_type": "display_data"
    }
   ],
   "source": [
    "# fig = plt.figure(figsize = (1000000, 500000))\n",
    "fig,ax = plt.subplots(figsize= (7,5)) \n",
    "plt.bar(model, time_taken,width = 0.7)\n",
    "# for index, value in enumerate(time_taken):\n",
    "#     plt.text(value,index,str(value))\n",
    "for bars in ax.containers:\n",
    "    ax.bar_label(bars)\n"
   ]
  },
  {
   "cell_type": "code",
   "execution_count": 46,
   "metadata": {},
   "outputs": [
    {
     "data": {
      "text/plain": [
       "<matplotlib.legend.Legend at 0x27b14b1d720>"
      ]
     },
     "execution_count": 46,
     "metadata": {},
     "output_type": "execute_result"
    },
    {
     "data": {
      "image/png": "[encoded data removed]",
      "text/plain": [
       "<Figure size 504x360 with 1 Axes>"
      ]
     },
     "metadata": {
      "needs_background": "light"
     },
     "output_type": "display_data"
    }
   ],
   "source": [
    "# model = np.array([\"LR\",\"NB\",\"SVM\",\"DTC\",\"RF\",\"CNN\",\"KNN\"])\n",
    "\n",
    "model = np.array([\"SVM\",\"DTC\",\"RF\",\"CNN\",\"KNN\"])\n",
    "fig,ax = plt.subplots(figsize= (7,5)) \n",
    "# plt.bar(model, tp_dict.values(),width = 0.45)\n",
    "# plt.bar(model, fp_dict.values(),width = 0.45)\n",
    "# for bars in ax.containers:\n",
    "#     ax.bar_label(bars)\n",
    "\n",
    "X_axis = np.arange(len(model))\n",
    "plt.bar(X_axis-0.2, tp_dict.values(),0.4,label=\"TP\")\n",
    "plt.bar(X_axis+0.2, fp_dict.values(),0.4,label=\"FP\")\n",
    "for bars in ax.containers:\n",
    "    ax.bar_label(bars)\n",
    "plt.xticks(X_axis, model)\n",
    "plt.legend()\n",
    "\n"
   ]
  },
  {
   "cell_type": "code",
   "execution_count": null,
   "metadata": {},
   "outputs": [],
   "source": []
  }
 ],
 "metadata": {
  "kernelspec": {
   "display_name": "Python 3.10.4 64-bit",
   "language": "python",
   "name": "python3"
  },
  "language_info": {
   "codemirror_mode": {
    "name": "ipython",
    "version": 3
   },
   "file_extension": ".py",
   "mimetype": "text/x-python",
   "name": "python",
   "nbconvert_exporter": "python",
   "pygments_lexer": "ipython3",
   "version": "3.10.4"
  },
  "orig_nbformat": 4,
  "vscode": {
   "interpreter": {
    "hash": "369f2c481f4da34e4445cda3fffd2e751bd1c4d706f27375911949ba6bb62e1c"
   }
  }
 },
 "nbformat": 4,
 "nbformat_minor": 2
}
