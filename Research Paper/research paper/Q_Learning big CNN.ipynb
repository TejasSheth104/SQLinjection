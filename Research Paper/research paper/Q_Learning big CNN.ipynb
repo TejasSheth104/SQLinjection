{
 "cells": [
  {
   "cell_type": "code",
   "execution_count": 1,
   "metadata": {},
   "outputs": [],
   "source": [
    "import numpy as np\n",
    "import pandas as pd\n",
    "import matplotlib.pyplot as plt\n",
    "from sklearn.model_selection import train_test_split\n",
    "from sklearn.metrics import confusion_matrix, classification_report, f1_score, precision_score, recall_score, accuracy_score\n",
    "import seaborn as sns\n",
    "# warnings.filterwarnings('ignore')\n"
   ]
  },
  {
   "cell_type": "code",
   "execution_count": 2,
   "metadata": {},
   "outputs": [
    {
     "name": "stdout",
     "output_type": "stream",
     "text": [
      "Data Shape: (33761, 2)\n"
     ]
    },
    {
     "data": {
      "text/html": [
       "<div>\n",
       "<style scoped>\n",
       "    .dataframe tbody tr th:only-of-type {\n",
       "        vertical-align: middle;\n",
       "    }\n",
       "\n",
       "    .dataframe tbody tr th {\n",
       "        vertical-align: top;\n",
       "    }\n",
       "\n",
       "    .dataframe thead th {\n",
       "        text-align: right;\n",
       "    }\n",
       "</style>\n",
       "<table border=\"1\" class=\"dataframe\">\n",
       "  <thead>\n",
       "    <tr style=\"text-align: right;\">\n",
       "      <th></th>\n",
       "      <th>Sentence</th>\n",
       "      <th>Label</th>\n",
       "    </tr>\n",
       "  </thead>\n",
       "  <tbody>\n",
       "    <tr>\n",
       "      <th>951</th>\n",
       "      <td>NaN</td>\n",
       "      <td>0</td>\n",
       "    </tr>\n",
       "    <tr>\n",
       "      <th>952</th>\n",
       "      <td>When I &amp;apos;m finished patient write-ups nig...</td>\n",
       "      <td>0</td>\n",
       "    </tr>\n",
       "    <tr>\n",
       "      <th>953</th>\n",
       "      <td>Thanks mooring basin front terminal , sunken ...</td>\n",
       "      <td>0</td>\n",
       "    </tr>\n",
       "    <tr>\n",
       "      <th>954</th>\n",
       "      <td>Geisingen Kirchen-Hausen first documented tog...</td>\n",
       "      <td>0</td>\n",
       "    </tr>\n",
       "    <tr>\n",
       "      <th>955</th>\n",
       "      <td>However , visitors marvel two ornate church t...</td>\n",
       "      <td>0</td>\n",
       "    </tr>\n",
       "    <tr>\n",
       "      <th>...</th>\n",
       "      <td>...</td>\n",
       "      <td>...</td>\n",
       "    </tr>\n",
       "    <tr>\n",
       "      <th>33756</th>\n",
       "      <td>syrett</td>\n",
       "      <td>0</td>\n",
       "    </tr>\n",
       "    <tr>\n",
       "      <th>33757</th>\n",
       "      <td>arrechea bellveh</td>\n",
       "      <td>0</td>\n",
       "    </tr>\n",
       "    <tr>\n",
       "      <th>33758</th>\n",
       "      <td>1664</td>\n",
       "      <td>0</td>\n",
       "    </tr>\n",
       "    <tr>\n",
       "      <th>33759</th>\n",
       "      <td>almaluez</td>\n",
       "      <td>0</td>\n",
       "    </tr>\n",
       "    <tr>\n",
       "      <th>33760</th>\n",
       "      <td>f6lo40r06</td>\n",
       "      <td>0</td>\n",
       "    </tr>\n",
       "  </tbody>\n",
       "</table>\n",
       "<p>22305 rows × 2 columns</p>\n",
       "</div>"
      ],
      "text/plain": [
       "                                                Sentence  Label\n",
       "951                                                  NaN      0\n",
       "952     When I &apos;m finished patient write-ups nig...      0\n",
       "953     Thanks mooring basin front terminal , sunken ...      0\n",
       "954     Geisingen Kirchen-Hausen first documented tog...      0\n",
       "955     However , visitors marvel two ornate church t...      0\n",
       "...                                                  ...    ...\n",
       "33756                                             syrett      0\n",
       "33757                                   arrechea bellveh      0\n",
       "33758                                               1664      0\n",
       "33759                                           almaluez      0\n",
       "33760                                          f6lo40r06      0\n",
       "\n",
       "[22305 rows x 2 columns]"
      ]
     },
     "execution_count": 2,
     "metadata": {},
     "output_type": "execute_result"
    }
   ],
   "source": [
    "df = pd.read_csv(\"data/sqliv2.csv\", encoding='utf-16')\n",
    "print(\"Data Shape:\", df.shape)\n",
    "df.Label.unique()\n",
    "df[df['Label']==0]"
   ]
  },
  {
   "cell_type": "code",
   "execution_count": 4,
   "metadata": {},
   "outputs": [
    {
     "name": "stdout",
     "output_type": "stream",
     "text": [
      "(33761,) (33761,)\n"
     ]
    },
    {
     "name": "stderr",
     "output_type": "stream",
     "text": [
      "[nltk_data] Downloading package stopwords to\n",
      "[nltk_data]     C:\\Users\\janha\\AppData\\Roaming\\nltk_data...\n",
      "[nltk_data]   Package stopwords is already up-to-date!\n"
     ]
    },
    {
     "name": "stdout",
     "output_type": "stream",
     "text": [
      "(27008, 10321)\n",
      "(27008,)\n",
      "(6753, 10321)\n",
      "(6753,)\n"
     ]
    }
   ],
   "source": [
    "X = df['Sentence']\n",
    "y = df['Label']\n",
    "print(X.shape, y.shape)\n",
    "len(X)\n",
    "import nltk\n",
    "from sklearn.feature_extraction.text import CountVectorizer\n",
    "from nltk.corpus import stopwords\n",
    "nltk.download('stopwords')\n",
    "vectorizer = CountVectorizer(min_df = 2, max_df = 0.8, stop_words = stopwords.words('english'))\n",
    "X = vectorizer.fit_transform(X.values.astype('U')).toarray()\n",
    "X_train, X_test, y_train, y_test = train_test_split(X, y, test_size = 0.2)\n",
    "print(X_train.shape)\n",
    "print(y_train.shape)\n",
    "print(X_test.shape)\n",
    "print(y_test.shape)"
   ]
  },
  {
   "cell_type": "code",
   "execution_count": 10,
   "metadata": {},
   "outputs": [
    {
     "data": {
      "text/plain": [
       "10321"
      ]
     },
     "execution_count": 10,
     "metadata": {},
     "output_type": "execute_result"
    }
   ],
   "source": [
    "num_features = X_train.shape[1]\n",
    "num_features"
   ]
  },
  {
   "cell_type": "code",
   "execution_count": 11,
   "metadata": {},
   "outputs": [
    {
     "name": "stdout",
     "output_type": "stream",
     "text": [
      "Model: \"sequential\"\n",
      "_________________________________________________________________\n",
      " Layer (type)                Output Shape              Param #   \n",
      "=================================================================\n",
      " conv1d (Conv1D)             (None, 1, 32)             330304    \n",
      "                                                                 \n",
      " conv1d_1 (Conv1D)           (None, 1, 32)             1056      \n",
      "                                                                 \n",
      " flatten (Flatten)           (None, 32)                0         \n",
      "                                                                 \n",
      " dense (Dense)               (None, 1)                 33        \n",
      "                                                                 \n",
      "=================================================================\n",
      "Total params: 331,393\n",
      "Trainable params: 331,393\n",
      "Non-trainable params: 0\n",
      "_________________________________________________________________\n",
      "Epoch 1/10\n",
      "844/844 [==============================] - 16s 15ms/step - loss: 0.1778 - accuracy: 0.9496 - val_loss: 0.1050 - val_accuracy: 0.9662\n",
      "Epoch 2/10\n",
      "844/844 [==============================] - 11s 13ms/step - loss: 0.0715 - accuracy: 0.9806 - val_loss: 0.1005 - val_accuracy: 0.9714\n",
      "Epoch 3/10\n",
      "844/844 [==============================] - 12s 14ms/step - loss: 0.0595 - accuracy: 0.9862 - val_loss: 0.1005 - val_accuracy: 0.9714\n",
      "Epoch 4/10\n",
      "844/844 [==============================] - 5s 6ms/step - loss: 0.0579 - accuracy: 0.9863 - val_loss: 0.1055 - val_accuracy: 0.9707\n",
      "Epoch 5/10\n",
      "844/844 [==============================] - 5s 6ms/step - loss: 0.0575 - accuracy: 0.9864 - val_loss: 0.1106 - val_accuracy: 0.9696\n",
      "Epoch 6/10\n",
      "844/844 [==============================] - 5s 6ms/step - loss: 0.0571 - accuracy: 0.9866 - val_loss: 0.1157 - val_accuracy: 0.9691\n",
      "Epoch 7/10\n",
      "844/844 [==============================] - 6s 7ms/step - loss: 0.0567 - accuracy: 0.9867 - val_loss: 0.1229 - val_accuracy: 0.9685\n",
      "Epoch 8/10\n",
      "844/844 [==============================] - 5s 6ms/step - loss: 0.0568 - accuracy: 0.9869 - val_loss: 0.1280 - val_accuracy: 0.9674\n",
      "Epoch 9/10\n",
      "844/844 [==============================] - 5s 6ms/step - loss: 0.0563 - accuracy: 0.9868 - val_loss: 0.1449 - val_accuracy: 0.9646\n",
      "Epoch 10/10\n",
      "844/844 [==============================] - 5s 6ms/step - loss: 0.0565 - accuracy: 0.9870 - val_loss: 0.1345 - val_accuracy: 0.9648\n",
      "212/212 [==============================] - 35s 3ms/step\n"
     ]
    },
    {
     "name": "stderr",
     "output_type": "stream",
     "text": [
      "WARNING:absl:Found untraced functions such as _jit_compiled_convolution_op, _jit_compiled_convolution_op while saving (showing 2 of 2). These functions will not be directly callable after loading.\n"
     ]
    },
    {
     "name": "stdout",
     "output_type": "stream",
     "text": [
      "INFO:tensorflow:Assets written to: saveModel/assets\n"
     ]
    },
    {
     "name": "stderr",
     "output_type": "stream",
     "text": [
      "INFO:tensorflow:Assets written to: saveModel/assets\n"
     ]
    }
   ],
   "source": [
    "import tensorflow as tf\n",
    "from tensorflow.keras.utils import plot_model\n",
    "from tensorflow.keras import models, layers\n",
    "# import warnings\n",
    "\n",
    "from sklearn.metrics import confusion_matrix, classification_report, f1_score, precision_score, recall_score, accuracy_score\n",
    "from sklearn.metrics import precision_recall_curve,precision_recall_fscore_support\n",
    "\n",
    "\n",
    "model = models.Sequential()\n",
    "model.add(layers.Conv1D(32, 1, activation = 'relu', input_shape = (1,num_features)))\n",
    "model.add(layers.Conv1D(32, 1, activation = 'relu'))\n",
    "model.add(layers.Flatten())\n",
    "model.add(layers.Dense(1, activation = 'sigmoid'))\n",
    "model.summary()\n",
    "model.compile(optimizer = 'adam', loss = tf.keras.losses.BinaryCrossentropy(), metrics = ['accuracy'])\n",
    "\n",
    "X_train1 = X_train.reshape(-1, 1, num_features)\n",
    "X_test1 = X_test.reshape(-1, 1, num_features)\n",
    "\n",
    "history = model.fit(X_train1, y_train, epochs = 10, validation_data = (X_test1, y_test))\n",
    "y_pred = model.predict(X_test1).flatten()\n",
    "\n",
    "y_pred = np.round(y_pred)\n",
    "\n",
    "model.save(\"saveModel/\")\n"
   ]
  },
  {
   "cell_type": "code",
   "execution_count": 14,
   "metadata": {},
   "outputs": [
    {
     "name": "stdout",
     "output_type": "stream",
     "text": [
      "Saved model to disk\n"
     ]
    }
   ],
   "source": [
    "from tensorflow.keras.models import model_from_json\n",
    "model_json = model.to_json()\n",
    "with open(\"cnn_model_big.json\", \"w\") as json_file:\n",
    "    json_file.write(model_json)\n",
    "# serialize weights to HDF5\n",
    "model.save_weights(\"cnn_model_big.h5\")\n",
    "print(\"Saved model to disk\")\n"
   ]
  },
  {
   "cell_type": "code",
   "execution_count": 12,
   "metadata": {},
   "outputs": [
    {
     "name": "stdout",
     "output_type": "stream",
     "text": [
      "Accuracy of CNN on test set : 0.9647564045609359\n",
      "F1 Score of CNN on test set : 0.9461538461538462\n",
      "recall of CNN on test set : 0.9863207547169811\n",
      "precision of CNN on test set : 0.9091304347826087\n"
     ]
    }
   ],
   "source": [
    "print(f\"Accuracy of CNN on test set : {accuracy_score(y_pred, y_test)}\")\n",
    "print(f\"F1 Score of CNN on test set : {f1_score(y_pred, y_test)}\")\n",
    "print(f\"recall of CNN on test set : {recall_score(y_pred, y_test)}\")\n",
    "print(f\"precision of CNN on test set : {precision_score(y_pred, y_test)}\")\n"
   ]
  },
  {
   "cell_type": "code",
   "execution_count": 15,
   "metadata": {},
   "outputs": [
    {
     "name": "stdout",
     "output_type": "stream",
     "text": [
      "Loaded model from disk\n"
     ]
    }
   ],
   "source": [
    "json_file = open('cnn_model_big.json', 'r')\n",
    "loaded_model_json = json_file.read()\n",
    "json_file.close()\n",
    "cnn_model = model_from_json(loaded_model_json)\n",
    "# load weights into new model\n",
    "cnn_model.load_weights(\"cnn_model_big.h5\")\n",
    "print(\"Loaded model from disk\")"
   ]
  },
  {
   "cell_type": "code",
   "execution_count": null,
   "metadata": {},
   "outputs": [],
   "source": []
  }
 ],
 "metadata": {
  "kernelspec": {
   "display_name": "Python 3",
   "language": "python",
   "name": "python3"
  },
  "language_info": {
   "codemirror_mode": {
    "name": "ipython",
    "version": 3
   },
   "file_extension": ".py",
   "mimetype": "text/x-python",
   "name": "python",
   "nbconvert_exporter": "python",
   "pygments_lexer": "ipython3",
   "version": "3.9.2"
  },
  "orig_nbformat": 4,
  "vscode": {
   "interpreter": {
    "hash": "b738206159d7e027a97ec26924432f55eb34fd29a1e8515757a942eaa7b40b64"
   }
  }
 },
 "nbformat": 4,
 "nbformat_minor": 2
}
