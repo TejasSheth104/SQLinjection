{
 "cells": [
  {
   "attachments": {},
   "cell_type": "markdown",
   "metadata": {},
   "source": [
    "### Machine Learning Models"
   ]
  },
  {
   "cell_type": "code",
   "execution_count": 34,
   "metadata": {},
   "outputs": [],
   "source": [
    "import pandas as pd\n",
    "import tensorflow as tf\n",
    "import numpy as np\n",
    "from sklearn.feature_extraction.text import CountVectorizer\n",
    "from sklearn.model_selection import train_test_split\n",
    "from nltk.corpus import stopwords\n",
    "from sklearn.metrics import accuracy_score, f1_score, precision_score, recall_score\n",
    "from sklearn.ensemble import RandomForestClassifier\n",
    "from sklearn import tree\n",
    "from sklearn.svm import SVC\n",
    "from sklearn.decomposition import PCA\n",
    "from sklearn.cluster import AgglomerativeClustering\n",
    "from sklearn.cluster import KMeans\n",
    "\n",
    "# from sklearn.metrics import confusion_matrix, classification_report, f1_score, precision_score, recall_score, accuracy_score, precision_recall_curve, precision_recall_fscore_support\n",
    "from tensorflow.keras import models, layers\n",
    "import warnings\n",
    "\n",
    "warnings.filterwarnings('ignore')"
   ]
  },
  {
   "cell_type": "code",
   "execution_count": 18,
   "metadata": {},
   "outputs": [
    {
     "data": {
      "text/html": [
       "<div>\n",
       "<style scoped>\n",
       "    .dataframe tbody tr th:only-of-type {\n",
       "        vertical-align: middle;\n",
       "    }\n",
       "\n",
       "    .dataframe tbody tr th {\n",
       "        vertical-align: top;\n",
       "    }\n",
       "\n",
       "    .dataframe thead th {\n",
       "        text-align: right;\n",
       "    }\n",
       "</style>\n",
       "<table border=\"1\" class=\"dataframe\">\n",
       "  <thead>\n",
       "    <tr style=\"text-align: right;\">\n",
       "      <th></th>\n",
       "      <th>Sentence</th>\n",
       "      <th>Label</th>\n",
       "    </tr>\n",
       "  </thead>\n",
       "  <tbody>\n",
       "    <tr>\n",
       "      <th>0</th>\n",
       "      <td>a</td>\n",
       "      <td>1</td>\n",
       "    </tr>\n",
       "    <tr>\n",
       "      <th>1</th>\n",
       "      <td>a'</td>\n",
       "      <td>1</td>\n",
       "    </tr>\n",
       "    <tr>\n",
       "      <th>2</th>\n",
       "      <td>a' --</td>\n",
       "      <td>1</td>\n",
       "    </tr>\n",
       "    <tr>\n",
       "      <th>3</th>\n",
       "      <td>a' or 1 = 1; --</td>\n",
       "      <td>1</td>\n",
       "    </tr>\n",
       "    <tr>\n",
       "      <th>4</th>\n",
       "      <td>@</td>\n",
       "      <td>1</td>\n",
       "    </tr>\n",
       "    <tr>\n",
       "      <th>...</th>\n",
       "      <td>...</td>\n",
       "      <td>...</td>\n",
       "    </tr>\n",
       "    <tr>\n",
       "      <th>4195</th>\n",
       "      <td>org/?option = com_k2  &lt;a href = \"http://corfopym</td>\n",
       "      <td>0</td>\n",
       "    </tr>\n",
       "    <tr>\n",
       "      <th>4196</th>\n",
       "      <td>com/?option = com_k2  &lt;act&gt;  &lt;![CDATA[procMemb...</td>\n",
       "      <td>0</td>\n",
       "    </tr>\n",
       "    <tr>\n",
       "      <th>4197</th>\n",
       "      <td>picsearch</td>\n",
       "      <td>0</td>\n",
       "    </tr>\n",
       "    <tr>\n",
       "      <th>4198</th>\n",
       "      <td>com/is?-WZx-uhyLezKNiYLvAbKL3W4oh5F749nr2KUmFF...</td>\n",
       "      <td>0</td>\n",
       "    </tr>\n",
       "    <tr>\n",
       "      <th>4199</th>\n",
       "      <td>de]]&gt;  &lt;/email_address&gt;   &lt;find_account_answer...</td>\n",
       "      <td>0</td>\n",
       "    </tr>\n",
       "  </tbody>\n",
       "</table>\n",
       "<p>4200 rows × 2 columns</p>\n",
       "</div>"
      ],
      "text/plain": [
       "                                               Sentence  Label\n",
       "0                                                     a      1\n",
       "1                                                   a'       1\n",
       "2                                                 a' --      1\n",
       "3                                       a' or 1 = 1; --      1\n",
       "4                                                     @      1\n",
       "...                                                 ...    ...\n",
       "4195   org/?option = com_k2  <a href = \"http://corfopym      0\n",
       "4196  com/?option = com_k2  <act>  <![CDATA[procMemb...      0\n",
       "4197                                          picsearch      0\n",
       "4198  com/is?-WZx-uhyLezKNiYLvAbKL3W4oh5F749nr2KUmFF...      0\n",
       "4199  de]]>  </email_address>   <find_account_answer...      0\n",
       "\n",
       "[4200 rows x 2 columns]"
      ]
     },
     "execution_count": 18,
     "metadata": {},
     "output_type": "execute_result"
    }
   ],
   "source": [
    "df = pd.read_csv(\"/CSEngg/SQLinjection/models/sqli.csv\", encoding=\"utf-16\")\n",
    "df"
   ]
  },
  {
   "cell_type": "code",
   "execution_count": 19,
   "metadata": {},
   "outputs": [],
   "source": [
    "X = df['Sentence']\n",
    "y = df['Label']"
   ]
  },
  {
   "cell_type": "code",
   "execution_count": 20,
   "metadata": {},
   "outputs": [
    {
     "name": "stdout",
     "output_type": "stream",
     "text": [
      "(3360, 4717)\n",
      "(840, 4717)\n",
      "(3360,)\n",
      "(840,)\n"
     ]
    }
   ],
   "source": [
    "vectorizer = CountVectorizer(min_df = 2, max_df = 0.8, stop_words = stopwords.words('english'))\n",
    "X = vectorizer.fit_transform(X.values.astype('U')).toarray()\n",
    "\n",
    "X_train, X_test, y_train, y_test = train_test_split(X, y, test_size=0.2, random_state=1)\n",
    "print(X_train.shape)\n",
    "print(X_test.shape)\n",
    "print(y_train.shape)\n",
    "print(y_test.shape)"
   ]
  },
  {
   "cell_type": "code",
   "execution_count": 21,
   "metadata": {},
   "outputs": [],
   "source": [
    "f1s_dict = {}\n",
    "precision_dict = {}\n",
    "recall_dict = {}\n",
    "accuracy_dict = {}\n",
    "train_accuracy = {}\n",
    "validation_accuracy = {}\n",
    "test_accuracy = {}"
   ]
  },
  {
   "attachments": {},
   "cell_type": "markdown",
   "metadata": {},
   "source": [
    "#### Supervised - "
   ]
  },
  {
   "attachments": {},
   "cell_type": "markdown",
   "metadata": {},
   "source": [
    "Random Forest"
   ]
  },
  {
   "cell_type": "code",
   "execution_count": 22,
   "metadata": {},
   "outputs": [
    {
     "name": "stdout",
     "output_type": "stream",
     "text": [
      "Accuracy of Random Forest on test set : 0.9238095238095239\n",
      "F1 Score of Random Forest on test set : 0.8764478764478765\n"
     ]
    }
   ],
   "source": [
    "# RF code\n",
    "rf_clf = RandomForestClassifier()\n",
    "rf_clf.fit(X_train, y_train)\n",
    "y_pred = rf_clf.predict(X_test)\n",
    "print(f\"Accuracy of Random Forest on test set : {accuracy_score(y_pred, y_test)}\")\n",
    "print(f\"F1 Score of Random Forest on test set : {f1_score(y_pred, y_test)}\")\n",
    "\n",
    "f1s_dict[\"RandomForest\"] = f1_score(y_pred, y_test)\n",
    "precision_dict[\"RandomForest\"] = precision_score(y_pred, y_test)\n",
    "recall_dict[\"RandomForest\"] = recall_score(y_pred, y_test)\n",
    "accuracy_dict['RandomForest'] = accuracy_score(y_pred, y_test)"
   ]
  },
  {
   "attachments": {},
   "cell_type": "markdown",
   "metadata": {},
   "source": [
    "Decision Tree Classifier"
   ]
  },
  {
   "cell_type": "code",
   "execution_count": 23,
   "metadata": {},
   "outputs": [
    {
     "name": "stdout",
     "output_type": "stream",
     "text": [
      "Accuracy of Naive Bayes on test set : 0.8857142857142857\n",
      "F1 Score of Naive Bayes on test set : 0.8254545454545454\n"
     ]
    }
   ],
   "source": [
    "# DTC code\n",
    "DT = tree.DecisionTreeClassifier()\n",
    "DT.fit(X_train, y_train)\n",
    "y_pred = DT.predict(X_test)\n",
    "print(f\"Accuracy of Naive Bayes on test set : {accuracy_score(y_pred, y_test)}\")\n",
    "print(f\"F1 Score of Naive Bayes on test set : {f1_score(y_pred, y_test)}\")\n",
    "\n",
    "f1s_dict[\"DecisionTree\"] = f1_score(y_pred, y_test)\n",
    "precision_dict[\"DecisionTree\"] = precision_score(y_pred, y_test)\n",
    "recall_dict[\"DecisionTree\"] = recall_score(y_pred, y_test)\n",
    "accuracy_dict['DecisionTree'] = accuracy_score(y_pred, y_test)"
   ]
  },
  {
   "attachments": {},
   "cell_type": "markdown",
   "metadata": {},
   "source": [
    "Support Vector Machines"
   ]
  },
  {
   "cell_type": "code",
   "execution_count": 24,
   "metadata": {},
   "outputs": [
    {
     "name": "stdout",
     "output_type": "stream",
     "text": [
      "Accuracy of SVM on test set : 0.7869047619047619\n",
      "F1 Score of SVM on test set : 0.34909090909090906\n"
     ]
    }
   ],
   "source": [
    "# SVM code\n",
    "svm_clf = SVC(gamma='auto')\n",
    "svm_clf.fit(X_train, y_train)\n",
    "y_pred = svm_clf.predict(X_test)\n",
    "print(f\"Accuracy of SVM on test set : {accuracy_score(y_pred, y_test)}\")\n",
    "print(f\"F1 Score of SVM on test set : {f1_score(y_pred, y_test)}\")\n",
    "\n",
    "f1s_dict[\"SVM\"] = f1_score(y_pred, y_test)\n",
    "precision_dict[\"SVM\"] = precision_score(y_pred, y_test)\n",
    "recall_dict[\"SVM\"] = recall_score(y_pred, y_test)\n",
    "accuracy_dict['SVM'] = accuracy_score(y_pred, y_test)"
   ]
  },
  {
   "attachments": {},
   "cell_type": "markdown",
   "metadata": {},
   "source": [
    "Convolutional Neural Network"
   ]
  },
  {
   "cell_type": "code",
   "execution_count": 25,
   "metadata": {},
   "outputs": [
    {
     "name": "stdout",
     "output_type": "stream",
     "text": [
      "Model: \"sequential\"\n",
      "_________________________________________________________________\n",
      " Layer (type)                Output Shape              Param #   \n",
      "=================================================================\n",
      " conv1d (Conv1D)             (None, 1, 32)             150976    \n",
      "                                                                 \n",
      " conv1d_1 (Conv1D)           (None, 1, 32)             1056      \n",
      "                                                                 \n",
      " flatten (Flatten)           (None, 32)                0         \n",
      "                                                                 \n",
      " dense (Dense)               (None, 1)                 33        \n",
      "                                                                 \n",
      "=================================================================\n",
      "Total params: 152,065\n",
      "Trainable params: 152,065\n",
      "Non-trainable params: 0\n",
      "_________________________________________________________________\n",
      "Epoch 1/10\n",
      "105/105 [==============================] - 3s 9ms/step - loss: 0.4212 - accuracy: 0.8161 - val_loss: 0.2239 - val_accuracy: 0.8786\n",
      "Epoch 2/10\n",
      "105/105 [==============================] - 1s 6ms/step - loss: 0.1325 - accuracy: 0.9500 - val_loss: 0.0934 - val_accuracy: 0.9833\n",
      "Epoch 3/10\n",
      "105/105 [==============================] - 1s 5ms/step - loss: 0.0715 - accuracy: 0.9795 - val_loss: 0.0667 - val_accuracy: 0.9845\n",
      "Epoch 4/10\n",
      "105/105 [==============================] - 0s 5ms/step - loss: 0.0573 - accuracy: 0.9801 - val_loss: 0.0574 - val_accuracy: 0.9845\n",
      "Epoch 5/10\n",
      "105/105 [==============================] - 1s 6ms/step - loss: 0.0515 - accuracy: 0.9801 - val_loss: 0.0548 - val_accuracy: 0.9857\n",
      "Epoch 6/10\n",
      "105/105 [==============================] - 0s 4ms/step - loss: 0.0505 - accuracy: 0.9801 - val_loss: 0.0512 - val_accuracy: 0.9857\n",
      "Epoch 7/10\n",
      "105/105 [==============================] - 0s 4ms/step - loss: 0.0492 - accuracy: 0.9801 - val_loss: 0.0498 - val_accuracy: 0.9857\n",
      "Epoch 8/10\n",
      "105/105 [==============================] - 1s 5ms/step - loss: 0.0485 - accuracy: 0.9801 - val_loss: 0.0493 - val_accuracy: 0.9845\n",
      "Epoch 9/10\n",
      "105/105 [==============================] - 1s 5ms/step - loss: 0.0482 - accuracy: 0.9801 - val_loss: 0.0477 - val_accuracy: 0.9857\n",
      "Epoch 10/10\n",
      "105/105 [==============================] - 0s 4ms/step - loss: 0.0481 - accuracy: 0.9804 - val_loss: 0.0482 - val_accuracy: 0.9845\n"
     ]
    }
   ],
   "source": [
    "# CNN code\n",
    "model = models.Sequential()\n",
    "model.add(layers.Conv1D(32, 1, activation = 'relu', input_shape = (1,4717)))\n",
    "model.add(layers.Conv1D(32, 1, activation = 'relu'))\n",
    "model.add(layers.Flatten())\n",
    "model.add(layers.Dense(1, activation = 'sigmoid'))\n",
    "model.summary()\n",
    "model.compile(optimizer = 'adam', loss = tf.keras.losses.BinaryCrossentropy(), metrics = ['accuracy'])\n",
    "\n",
    "X_train1 = X_train.reshape(-1, 1, 4717)\n",
    "X_test1 = X_test.reshape(-1, 1, 4717)\n",
    "\n",
    "history = model.fit(X_train1, y_train, epochs = 10, validation_data = (X_test1, y_test))"
   ]
  },
  {
   "cell_type": "code",
   "execution_count": 26,
   "metadata": {},
   "outputs": [
    {
     "name": "stdout",
     "output_type": "stream",
     "text": [
      "27/27 [==============================] - 0s 3ms/step\n",
      "Accuracy of CNN on test set : 0.9845238095238096\n",
      "F1 Score of CNN on test set : 0.9721627408993576\n"
     ]
    }
   ],
   "source": [
    "y_pred = model.predict(X_test1).flatten()\n",
    "y_pred = np.round(y_pred)\n",
    "print(f\"Accuracy of CNN on test set : {accuracy_score(y_pred, y_test)}\")\n",
    "print(f\"F1 Score of CNN on test set : {f1_score(y_pred, y_test)}\")\n",
    "\n",
    "f1s_dict[\"CNN\"] = f1_score(y_pred, y_test)\n",
    "precision_dict[\"CNN\"] = precision_score(y_pred, y_test)\n",
    "recall_dict[\"CNN\"] = recall_score(y_pred, y_test)\n",
    "accuracy_dict['CNN'] = accuracy_score(y_pred, y_test)"
   ]
  },
  {
   "attachments": {},
   "cell_type": "markdown",
   "metadata": {},
   "source": [
    "#### Unsupervised - "
   ]
  },
  {
   "attachments": {},
   "cell_type": "markdown",
   "metadata": {},
   "source": [
    "K-means Clustering"
   ]
  },
  {
   "cell_type": "code",
   "execution_count": 36,
   "metadata": {},
   "outputs": [],
   "source": [
    "# K-Means code"
   ]
  },
  {
   "attachments": {},
   "cell_type": "markdown",
   "metadata": {},
   "source": [
    "Hierarchical Clustering"
   ]
  },
  {
   "cell_type": "code",
   "execution_count": 37,
   "metadata": {},
   "outputs": [],
   "source": [
    "# Hierarchical code"
   ]
  },
  {
   "attachments": {},
   "cell_type": "markdown",
   "metadata": {},
   "source": [
    "Principal Component Analysis"
   ]
  },
  {
   "cell_type": "code",
   "execution_count": 33,
   "metadata": {},
   "outputs": [
    {
     "name": "stdout",
     "output_type": "stream",
     "text": [
      "[0.06573887 0.04918013]\n"
     ]
    }
   ],
   "source": [
    "# PCA code\n"
   ]
  },
  {
   "attachments": {},
   "cell_type": "markdown",
   "metadata": {},
   "source": [
    "#### Reinforcement Learning - "
   ]
  },
  {
   "attachments": {},
   "cell_type": "markdown",
   "metadata": {},
   "source": [
    "Q-Learning"
   ]
  },
  {
   "cell_type": "code",
   "execution_count": 13,
   "metadata": {},
   "outputs": [],
   "source": [
    "# Q-learning code"
   ]
  },
  {
   "attachments": {},
   "cell_type": "markdown",
   "metadata": {},
   "source": [
    "Deep Reinforcement Learning"
   ]
  },
  {
   "cell_type": "code",
   "execution_count": 14,
   "metadata": {},
   "outputs": [],
   "source": [
    "# Deep reinforcement learning code"
   ]
  },
  {
   "attachments": {},
   "cell_type": "markdown",
   "metadata": {},
   "source": [
    "### Charts and Graphs"
   ]
  },
  {
   "cell_type": "code",
   "execution_count": 27,
   "metadata": {},
   "outputs": [
    {
     "data": {
      "text/html": [
       "<div>\n",
       "<style scoped>\n",
       "    .dataframe tbody tr th:only-of-type {\n",
       "        vertical-align: middle;\n",
       "    }\n",
       "\n",
       "    .dataframe tbody tr th {\n",
       "        vertical-align: top;\n",
       "    }\n",
       "\n",
       "    .dataframe thead th {\n",
       "        text-align: right;\n",
       "    }\n",
       "</style>\n",
       "<table border=\"1\" class=\"dataframe\">\n",
       "  <thead>\n",
       "    <tr style=\"text-align: right;\">\n",
       "      <th></th>\n",
       "      <th>RandomForest</th>\n",
       "      <th>DecisionTree</th>\n",
       "      <th>SVM</th>\n",
       "      <th>CNN</th>\n",
       "    </tr>\n",
       "  </thead>\n",
       "  <tbody>\n",
       "    <tr>\n",
       "      <th>F1_Score</th>\n",
       "      <td>0.876448</td>\n",
       "      <td>0.825455</td>\n",
       "      <td>0.349091</td>\n",
       "      <td>0.972163</td>\n",
       "    </tr>\n",
       "    <tr>\n",
       "      <th>Precision</th>\n",
       "      <td>1.000000</td>\n",
       "      <td>1.000000</td>\n",
       "      <td>0.211454</td>\n",
       "      <td>1.000000</td>\n",
       "    </tr>\n",
       "    <tr>\n",
       "      <th>Recall</th>\n",
       "      <td>0.780069</td>\n",
       "      <td>0.702786</td>\n",
       "      <td>1.000000</td>\n",
       "      <td>0.945833</td>\n",
       "    </tr>\n",
       "    <tr>\n",
       "      <th>Accuracy</th>\n",
       "      <td>0.923810</td>\n",
       "      <td>0.885714</td>\n",
       "      <td>0.786905</td>\n",
       "      <td>0.984524</td>\n",
       "    </tr>\n",
       "  </tbody>\n",
       "</table>\n",
       "</div>"
      ],
      "text/plain": [
       "           RandomForest  DecisionTree       SVM       CNN\n",
       "F1_Score       0.876448      0.825455  0.349091  0.972163\n",
       "Precision      1.000000      1.000000  0.211454  1.000000\n",
       "Recall         0.780069      0.702786  1.000000  0.945833\n",
       "Accuracy       0.923810      0.885714  0.786905  0.984524"
      ]
     },
     "execution_count": 27,
     "metadata": {},
     "output_type": "execute_result"
    }
   ],
   "source": [
    "keys = f1s_dict, precision_dict, recall_dict, accuracy_dict\n",
    "metrics = ['F1_Score', 'Precision', 'Recall', 'Accuracy']\n",
    "data = pd.DataFrame(keys)\n",
    "data.index = metrics\n",
    "data"
   ]
  },
  {
   "cell_type": "code",
   "execution_count": 30,
   "metadata": {},
   "outputs": [
    {
     "data": {
      "text/plain": [
       "<matplotlib.legend.Legend at 0x1758511ee80>"
      ]
     },
     "execution_count": 30,
     "metadata": {},
     "output_type": "execute_result"
    },
    {
     "data": {
      "image/png": "[encoded data removed]",
      "text/plain": [
       "<Figure size 720x504 with 1 Axes>"
      ]
     },
     "metadata": {
      "needs_background": "light"
     },
     "output_type": "display_data"
    }
   ],
   "source": [
    "result = data.plot(kind='bar', rot=0, figsize=(10,7))\n",
    "result.legend(bbox_to_anchor=(1, 1), loc='upper left')"
   ]
  }
 ],
 "metadata": {
  "kernelspec": {
   "display_name": "Python 3",
   "language": "python",
   "name": "python3"
  },
  "language_info": {
   "codemirror_mode": {
    "name": "ipython",
    "version": 3
   },
   "file_extension": ".py",
   "mimetype": "text/x-python",
   "name": "python",
   "nbconvert_exporter": "python",
   "pygments_lexer": "ipython3",
   "version": "3.9.2 (tags/v3.9.2:1a79785, Feb 19 2021, 13:44:55) [MSC v.1928 64 bit (AMD64)]"
  },
  "orig_nbformat": 4,
  "vscode": {
   "interpreter": {
    "hash": "b738206159d7e027a97ec26924432f55eb34fd29a1e8515757a942eaa7b40b64"
   }
  }
 },
 "nbformat": 4,
 "nbformat_minor": 2
}
