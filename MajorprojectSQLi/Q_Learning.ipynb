{
 "cells": [
  {
   "cell_type": "code",
   "execution_count": 6,
   "metadata": {},
   "outputs": [
    {
     "name": "stdout",
     "output_type": "stream",
     "text": [
      "Data Shape: (4200, 2)\n"
     ]
    }
   ],
   "source": [
    "# import packages\n",
    "import numpy as np\n",
    "import pandas as pd\n",
    "import matplotlib.pyplot as plt\n",
    "from sklearn.model_selection import train_test_split\n",
    "from sklearn.metrics import confusion_matrix, classification_report, f1_score, precision_score, recall_score, accuracy_score\n",
    "import seaborn as sns\n",
    "\n",
    "# import data \n",
    "df = pd.read_csv(\"data/sqli.csv\", encoding='utf-16')\n",
    "print(\"Data Shape:\", df.shape)"
   ]
  },
  {
   "cell_type": "code",
   "execution_count": 25,
   "metadata": {},
   "outputs": [
    {
     "name": "stdout",
     "output_type": "stream",
     "text": [
      "(4200,) (4200,)\n"
     ]
    },
    {
     "name": "stderr",
     "output_type": "stream",
     "text": [
      "[nltk_data] Error loading stopwords: <urlopen error [Errno 11001]\n",
      "[nltk_data]     getaddrinfo failed>\n"
     ]
    }
   ],
   "source": [
    "X = df['Sentence']\n",
    "y = df['Label']\n",
    "print(X.shape, y.shape)\n",
    "len(X)\n",
    "import nltk\n",
    "from sklearn.feature_extraction.text import CountVectorizer\n",
    "from nltk.corpus import stopwords\n",
    "nltk.download('stopwords')\n",
    "vectorizer = CountVectorizer(min_df = 2, max_df = 0.8, stop_words = stopwords.words('english'))\n",
    "X = vectorizer.fit_transform(X.values.astype('U')).toarray()\n",
    "X_train, X_test, y_train, y_test = train_test_split(X, y, test_size = 0.2)"
   ]
  },
  {
   "attachments": {},
   "cell_type": "markdown",
   "metadata": {},
   "source": [
    "### CNN Model"
   ]
  },
  {
   "cell_type": "code",
   "execution_count": 26,
   "metadata": {},
   "outputs": [
    {
     "name": "stdout",
     "output_type": "stream",
     "text": [
      "Loaded model from disk\n"
     ]
    }
   ],
   "source": [
    "from tensorflow.keras.models import model_from_json\n",
    "\n",
    "json_file = open('cnn_model.json', 'r')\n",
    "loaded_model_json = json_file.read()\n",
    "json_file.close()\n",
    "cnn_model = model_from_json(loaded_model_json)\n",
    "# load weights into new model\n",
    "cnn_model.load_weights(\"cnn_model.h5\")\n",
    "print(\"Loaded model from disk\")\n",
    "\n",
    "# # Use the loaded model to make predictions\n",
    "# cnn_model.predict(x_inp.reshape(-1,1,4717)).flatten()"
   ]
  },
  {
   "attachments": {},
   "cell_type": "markdown",
   "metadata": {},
   "source": [
    "### RL model"
   ]
  },
  {
   "cell_type": "code",
   "execution_count": 27,
   "metadata": {},
   "outputs": [],
   "source": [
    "import numpy as np\n",
    "import gym"
   ]
  },
  {
   "attachments": {},
   "cell_type": "markdown",
   "metadata": {},
   "source": [
    "#### CREATING MODEL, AGENT & ENVIRONMENT"
   ]
  },
  {
   "cell_type": "code",
   "execution_count": 28,
   "metadata": {},
   "outputs": [],
   "source": [
    "class QLearningBinaryClassifier:\n",
    "    def __init__(self, num_features, learning_rate, discount_factor):\n",
    "        self.num_features = num_features\n",
    "        self.learning_rate = learning_rate\n",
    "        self.discount_factor = discount_factor\n",
    "        self.weights = np.zeros(num_features)\n",
    "\n",
    "    def predict(self, state):\n",
    "        q_value = np.dot(self.weights, state)\n",
    "        action = 1 if q_value >= 0 else 0\n",
    "        return action\n",
    "\n",
    "    def update(self, state, action, reward, next_state):\n",
    "        q_value = np.dot(self.weights, state)\n",
    "        next_q_value = np.dot(self.weights, next_state)\n",
    "        target = reward + self.discount_factor * next_q_value\n",
    "        error = target - q_value\n",
    "        self.weights += self.learning_rate * error * state"
   ]
  },
  {
   "cell_type": "code",
   "execution_count": 29,
   "metadata": {},
   "outputs": [],
   "source": [
    "# Define the RL agent (QLearining model )\n",
    "class SQLInjectionAgent:\n",
    "    def __init__(self):\n",
    "        self.model = QLearningBinaryClassifier(num_features=5, learning_rate = 0.1, discount_factor = 0.9)  # Define the RL model (e.g., Q-learning, SARSA)\n",
    "\n",
    "    def act(self, state):\n",
    "        action = self.model.predict(state)  # Use the model to predict the best action\n",
    "        return action"
   ]
  },
  {
   "cell_type": "code",
   "execution_count": 30,
   "metadata": {},
   "outputs": [],
   "source": [
    "# apriori\n",
    "def is_injection(xi):\n",
    "    # x_inp = X[random.randint(0,len(X)-1)]\n",
    "    return cnn_model.predict(xi.reshape(-1,1,4717)).flatten()\n",
    "\n",
    "# Define the RL environment (QLearining model )\n",
    "\n",
    "class SQLInjectionEnv(gym.Env):\n",
    "    \n",
    "    def __init__(self):\n",
    "        self.state = None\n",
    "        self.done = False\n",
    "\n",
    "    def reset(self):\n",
    "        # Generate a new random SQL query to use as the initial state\n",
    "        # self.state = generate_random_query()\n",
    "        self.done = False\n",
    "        # return self.state\n",
    "\n",
    "    def step(self, state, action):\n",
    "        # Execute the query with the given action (e.g., input, modification)\n",
    "        # query = apply_action_to_query(self.state, action)\n",
    "        # self.index = self.index+1\n",
    "        query = state\n",
    "        # query = X_train[self.index]\n",
    "        result = is_injection(query)\n",
    "\n",
    "        # Determine the reward based on the result of the query\n",
    "        if is_injection(query):\n",
    "            reward = -1  # Penalty for a successful injection\n",
    "            self.done = True\n",
    "        elif result == 'error':\n",
    "            reward = -0.5  # Penalty for a failed query\n",
    "        else:\n",
    "            reward = 0.5  # Reward for a successful query\n",
    "\n",
    "        return query, reward, self.done, {}\n"
   ]
  },
  {
   "attachments": {},
   "cell_type": "markdown",
   "metadata": {},
   "source": [
    "#### TTRAINING THE MODEL"
   ]
  },
  {
   "cell_type": "code",
   "execution_count": 31,
   "metadata": {},
   "outputs": [],
   "source": [
    "# Train the RL agent\n",
    "\n",
    "env = SQLInjectionEnv()\n",
    "agent = SQLInjectionAgent()\n",
    "\n",
    "num_features = 4717 # featues of data\n",
    "learning_rate = 0.1\n",
    "discount_factor = 0.9\n",
    "\n",
    "q_model = QLearningBinaryClassifier(num_features, learning_rate, discount_factor)\n",
    "\n",
    "out = []\n",
    "\n",
    "num_episodes = len(X_train)-1\n",
    "\n",
    "for state in X_train:\n",
    "    # state = env.reset() # Initialize the state\n",
    "    done = False\n",
    "    while not done:\n",
    "        action = q_model.predict(state)\n",
    "        out.append(action)\n",
    "        next_state, reward, done, _ = env.step(state,action) # Observe the next state, reward, and done flag\n",
    "        q_model.update(state, action, reward, next_state)\n",
    "        state = next_state\n"
   ]
  },
  {
   "attachments": {},
   "cell_type": "markdown",
   "metadata": {},
   "source": [
    "#### TESTING & ACCURACY"
   ]
  },
  {
   "cell_type": "code",
   "execution_count": 32,
   "metadata": {},
   "outputs": [],
   "source": [
    "half = len(X_test)//2\n",
    "X_test_1 = X_test[:half]\n",
    "X_val_1 = X_test[half:]\n",
    "Y_test_1 = y_test[:half]\n",
    "Y_val_1 = y_test[half:]"
   ]
  },
  {
   "cell_type": "code",
   "execution_count": 33,
   "metadata": {},
   "outputs": [],
   "source": [
    "# prediction while model not learning\n",
    "\n",
    "y_pred1 = []\n",
    "for state in X_test_1:\n",
    "    action = q_model.predict(state)\n",
    "    y_pred1.append(action)"
   ]
  },
  {
   "cell_type": "code",
   "execution_count": 34,
   "metadata": {},
   "outputs": [
    {
     "name": "stdout",
     "output_type": "stream",
     "text": [
      "Accuracy: 0.7642857142857142\n"
     ]
    }
   ],
   "source": [
    "accuracy = accuracy_score(Y_test_1, y_pred1)\n",
    "print(\"Accuracy:\", accuracy)\n"
   ]
  },
  {
   "cell_type": "code",
   "execution_count": 35,
   "metadata": {},
   "outputs": [],
   "source": [
    "# prediction while model learns\n",
    "\n",
    "y_pred = []\n",
    "\n",
    "for state in X_test_1:\n",
    "    # state = env.reset() # Initialize the state\n",
    "    # print(state)\n",
    "    done = False\n",
    "    while not done:\n",
    "        action = q_model.predict(state)\n",
    "        y_pred.append(action)\n",
    "        next_state, reward, done, _ = env.step(state,action) # Observe the next state, reward, and done flag\n",
    "        q_model.update(state, action, reward, next_state)\n",
    "        state = next_state"
   ]
  },
  {
   "cell_type": "code",
   "execution_count": 36,
   "metadata": {},
   "outputs": [
    {
     "name": "stdout",
     "output_type": "stream",
     "text": [
      "Accuracy: 0.7642857142857142\n"
     ]
    }
   ],
   "source": [
    "accuracy = accuracy_score(Y_test_1, y_pred)\n",
    "print(\"Accuracy:\", accuracy)\n"
   ]
  },
  {
   "attachments": {},
   "cell_type": "markdown",
   "metadata": {},
   "source": [
    "#### VALIDATION & ACCURACY"
   ]
  },
  {
   "cell_type": "code",
   "execution_count": 37,
   "metadata": {},
   "outputs": [],
   "source": [
    "# prediction while model not learning\n",
    "\n",
    "y_pred2 = []\n",
    "for state in X_val_1:\n",
    "    action = q_model.predict(state)\n",
    "    y_pred2.append(action)"
   ]
  },
  {
   "cell_type": "code",
   "execution_count": 38,
   "metadata": {},
   "outputs": [
    {
     "name": "stdout",
     "output_type": "stream",
     "text": [
      "Accuracy: 0.7571428571428571\n"
     ]
    }
   ],
   "source": [
    "accuracy = accuracy_score(Y_val_1, y_pred2)\n",
    "print(\"Accuracy:\", accuracy)\n"
   ]
  },
  {
   "cell_type": "code",
   "execution_count": 39,
   "metadata": {},
   "outputs": [],
   "source": [
    "# prediction while model learns\n",
    "\n",
    "y_pred3 = []\n",
    "\n",
    "for state in X_val_1:\n",
    "    # state = env.reset() # Initialize the state\n",
    "    done = False\n",
    "    \n",
    "    while not done:\n",
    "        action = q_model.predict(state)\n",
    "        \n",
    "        y_pred3.append(action)\n",
    "        next_state, reward, done, _ = env.step(state,action) # Observe the next state, reward, and done flag\n",
    "        q_model.update(state, action, reward, next_state)\n",
    "        state = next_state"
   ]
  },
  {
   "cell_type": "code",
   "execution_count": 41,
   "metadata": {},
   "outputs": [
    {
     "name": "stdout",
     "output_type": "stream",
     "text": [
      "Accuracy: 0.7571428571428571\n"
     ]
    },
    {
     "ename": "AttributeError",
     "evalue": "'QLearningBinaryClassifier' object has no attribute 'summary'",
     "output_type": "error",
     "traceback": [
      "\u001b[1;31m---------------------------------------------------------------------------\u001b[0m",
      "\u001b[1;31mAttributeError\u001b[0m                            Traceback (most recent call last)",
      "\u001b[1;32mc:\\Users\\hetpo\\Desktop\\MajorprojectSQLi\\Q_Learning.ipynb Cell 23\u001b[0m in \u001b[0;36m<cell line: 3>\u001b[1;34m()\u001b[0m\n\u001b[0;32m      <a href='vscode-notebook-cell:/c%3A/Users/hetpo/Desktop/MajorprojectSQLi/Q_Learning.ipynb#X31sZmlsZQ%3D%3D?line=0'>1</a>\u001b[0m accuracy \u001b[39m=\u001b[39m accuracy_score(Y_val_1, y_pred3)\n\u001b[0;32m      <a href='vscode-notebook-cell:/c%3A/Users/hetpo/Desktop/MajorprojectSQLi/Q_Learning.ipynb#X31sZmlsZQ%3D%3D?line=1'>2</a>\u001b[0m \u001b[39mprint\u001b[39m(\u001b[39m\"\u001b[39m\u001b[39mAccuracy:\u001b[39m\u001b[39m\"\u001b[39m, accuracy)\n\u001b[1;32m----> <a href='vscode-notebook-cell:/c%3A/Users/hetpo/Desktop/MajorprojectSQLi/Q_Learning.ipynb#X31sZmlsZQ%3D%3D?line=2'>3</a>\u001b[0m q_model\u001b[39m.\u001b[39;49msummary()\n",
      "\u001b[1;31mAttributeError\u001b[0m: 'QLearningBinaryClassifier' object has no attribute 'summary'"
     ]
    }
   ],
   "source": [
    "accuracy = accuracy_score(Y_val_1, y_pred3)\n",
    "print(\"Accuracy:\", accuracy)\n",
    "\n"
   ]
  },
  {
   "cell_type": "code",
   "execution_count": 24,
   "metadata": {},
   "outputs": [
    {
     "ename": "ValueError",
     "evalue": "shapes (4717,) and (1,1,4717) not aligned: 4717 (dim 0) != 1 (dim 1)",
     "output_type": "error",
     "traceback": [
      "\u001b[1;31m---------------------------------------------------------------------------\u001b[0m",
      "\u001b[1;31mValueError\u001b[0m                                Traceback (most recent call last)",
      "\u001b[1;32mc:\\Users\\hetpo\\Desktop\\MajorprojectSQLi\\Q_Learning.ipynb Cell 24\u001b[0m in \u001b[0;36m<cell line: 5>\u001b[1;34m()\u001b[0m\n\u001b[0;32m      <a href='vscode-notebook-cell:/c%3A/Users/hetpo/Desktop/MajorprojectSQLi/Q_Learning.ipynb#X32sZmlsZQ%3D%3D?line=2'>3</a>\u001b[0m state \u001b[39m=\u001b[39m vectorizer\u001b[39m.\u001b[39mtransform(state)\u001b[39m.\u001b[39mtoarray()\n\u001b[0;32m      <a href='vscode-notebook-cell:/c%3A/Users/hetpo/Desktop/MajorprojectSQLi/Q_Learning.ipynb#X32sZmlsZQ%3D%3D?line=3'>4</a>\u001b[0m state \u001b[39m=\u001b[39m np\u001b[39m.\u001b[39marray(state,dtype\u001b[39m=\u001b[39mnp\u001b[39m.\u001b[39mfloat32)\n\u001b[1;32m----> <a href='vscode-notebook-cell:/c%3A/Users/hetpo/Desktop/MajorprojectSQLi/Q_Learning.ipynb#X32sZmlsZQ%3D%3D?line=4'>5</a>\u001b[0m action \u001b[39m=\u001b[39m q_model\u001b[39m.\u001b[39;49mpredict(state\u001b[39m.\u001b[39;49mreshape(\u001b[39m-\u001b[39;49m\u001b[39m1\u001b[39;49m,\u001b[39m1\u001b[39;49m,\u001b[39m4717\u001b[39;49m))\n\u001b[0;32m      <a href='vscode-notebook-cell:/c%3A/Users/hetpo/Desktop/MajorprojectSQLi/Q_Learning.ipynb#X32sZmlsZQ%3D%3D?line=5'>6</a>\u001b[0m \u001b[39mprint\u001b[39m(state\u001b[39m.\u001b[39mshape)\n",
      "\u001b[1;32mc:\\Users\\hetpo\\Desktop\\MajorprojectSQLi\\Q_Learning.ipynb Cell 24\u001b[0m in \u001b[0;36mQLearningBinaryClassifier.predict\u001b[1;34m(self, state)\u001b[0m\n\u001b[0;32m      <a href='vscode-notebook-cell:/c%3A/Users/hetpo/Desktop/MajorprojectSQLi/Q_Learning.ipynb#X32sZmlsZQ%3D%3D?line=7'>8</a>\u001b[0m \u001b[39mdef\u001b[39;00m \u001b[39mpredict\u001b[39m(\u001b[39mself\u001b[39m, state):\n\u001b[1;32m----> <a href='vscode-notebook-cell:/c%3A/Users/hetpo/Desktop/MajorprojectSQLi/Q_Learning.ipynb#X32sZmlsZQ%3D%3D?line=8'>9</a>\u001b[0m     q_value \u001b[39m=\u001b[39m np\u001b[39m.\u001b[39;49mdot(\u001b[39mself\u001b[39;49m\u001b[39m.\u001b[39;49mweights, state)\n\u001b[0;32m     <a href='vscode-notebook-cell:/c%3A/Users/hetpo/Desktop/MajorprojectSQLi/Q_Learning.ipynb#X32sZmlsZQ%3D%3D?line=9'>10</a>\u001b[0m     action \u001b[39m=\u001b[39m \u001b[39m1\u001b[39m \u001b[39mif\u001b[39;00m q_value \u001b[39m>\u001b[39m\u001b[39m=\u001b[39m \u001b[39m0\u001b[39m \u001b[39melse\u001b[39;00m \u001b[39m0\u001b[39m\n\u001b[0;32m     <a href='vscode-notebook-cell:/c%3A/Users/hetpo/Desktop/MajorprojectSQLi/Q_Learning.ipynb#X32sZmlsZQ%3D%3D?line=10'>11</a>\u001b[0m     \u001b[39mreturn\u001b[39;00m action\n",
      "File \u001b[1;32m<__array_function__ internals>:180\u001b[0m, in \u001b[0;36mdot\u001b[1;34m(*args, **kwargs)\u001b[0m\n",
      "\u001b[1;31mValueError\u001b[0m: shapes (4717,) and (1,1,4717) not aligned: 4717 (dim 0) != 1 (dim 1)"
     ]
    }
   ],
   "source": [
    "# query = ''' select * from users where id = 1 +$ . union select null,@@VERSION -- 1'''\n",
    "# state = [query]\n",
    "# state = vectorizer.transform(state).toarray()\n",
    "# state = np.array(state,dtype=np.float32)\n",
    "# action = q_model.predict(state.reshape(-1,1,4717))\n",
    "# print(state.shape)\n"
   ]
  },
  {
   "cell_type": "code",
   "execution_count": 74,
   "metadata": {},
   "outputs": [
    {
     "name": "stdout",
     "output_type": "stream",
     "text": [
      "(4717,)\n",
      "0\n"
     ]
    }
   ],
   "source": [
    "# x_inp1 = '''AND 1 = utl_inaddr.get_host_address  (  (  SELECT COUNT ( DISTINCT ( USERNAME  )  )   FROM SYS.ALL_USERS  )  )   AND 'i' = 'i'''\n",
    "# single_string = [x_inp1]\n",
    "# single_string_vector = vectorizer.transform(single_string).toarray()\n",
    "# # state= np.array(single_string_vector, dtype=np.float32)\n",
    "# state = state.reshape((4717))\n",
    "# print(state.shape)\n",
    "\n",
    "# action = q_model.predict(state)\n",
    "# print(action)\n",
    "# y_pred3.append(action)\n",
    "# next_state, reward, done, _ = env.step(state,action) # Observe the next state, reward, and done flag\n",
    "# q_model.update(state, action, reward, next_state)\n",
    "# state = next_state"
   ]
  },
  {
   "cell_type": "markdown",
   "metadata": {},
   "source": []
  }
 ],
 "metadata": {
  "kernelspec": {
   "display_name": "Python 3",
   "language": "python",
   "name": "python3"
  },
  "language_info": {
   "codemirror_mode": {
    "name": "ipython",
    "version": 3
   },
   "file_extension": ".py",
   "mimetype": "text/x-python",
   "name": "python",
   "nbconvert_exporter": "python",
   "pygments_lexer": "ipython3",
   "version": "3.10.2"
  },
  "orig_nbformat": 4,
  "vscode": {
   "interpreter": {
    "hash": "369f2c481f4da34e4445cda3fffd2e751bd1c4d706f27375911949ba6bb62e1c"
   }
  }
 },
 "nbformat": 4,
 "nbformat_minor": 2
}
